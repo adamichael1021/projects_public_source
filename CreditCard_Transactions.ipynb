{
 "cells": [
  {
   "cell_type": "code",
   "execution_count": 1,
   "metadata": {
    "ExecuteTime": {
     "end_time": "2021-03-30T03:03:54.422470Z",
     "start_time": "2021-03-30T03:03:41.859399Z"
    }
   },
   "outputs": [],
   "source": [
    "import warnings\n",
    "warnings.simplefilter('ignore')\n",
    "\n",
    "import pandas as pd\n",
    "import numpy as np\n",
    "import matplotlib.pyplot as plt\n",
    "import seaborn as sns\n",
    "\n",
    "from sklearn.preprocessing import StandardScaler\n",
    "from sklearn.decomposition import PCA\n",
    "from sklearn.cluster import DBSCAN\n",
    "from sklearn.ensemble import IsolationForest\n",
    "\n",
    "%matplotlib inline"
   ]
  },
  {
   "cell_type": "markdown",
   "metadata": {},
   "source": [
    "# Data Loading"
   ]
  },
  {
   "cell_type": "code",
   "execution_count": 2,
   "metadata": {
    "ExecuteTime": {
     "end_time": "2021-03-30T03:06:26.094975Z",
     "start_time": "2021-03-30T03:06:26.044133Z"
    }
   },
   "outputs": [],
   "source": [
    "info = pd.read_csv('C:/Users/lizil/Dropbox/Job/Data/credit_card/cc_info.csv')"
   ]
  },
  {
   "cell_type": "code",
   "execution_count": 3,
   "metadata": {
    "ExecuteTime": {
     "end_time": "2021-03-30T03:06:29.883466Z",
     "start_time": "2021-03-30T03:06:29.845469Z"
    }
   },
   "outputs": [
    {
     "data": {
      "text/html": [
       "<div>\n",
       "<style scoped>\n",
       "    .dataframe tbody tr th:only-of-type {\n",
       "        vertical-align: middle;\n",
       "    }\n",
       "\n",
       "    .dataframe tbody tr th {\n",
       "        vertical-align: top;\n",
       "    }\n",
       "\n",
       "    .dataframe thead th {\n",
       "        text-align: right;\n",
       "    }\n",
       "</style>\n",
       "<table border=\"1\" class=\"dataframe\">\n",
       "  <thead>\n",
       "    <tr style=\"text-align: right;\">\n",
       "      <th></th>\n",
       "      <th>credit_card</th>\n",
       "      <th>city</th>\n",
       "      <th>state</th>\n",
       "      <th>zipcode</th>\n",
       "      <th>credit_card_limit</th>\n",
       "    </tr>\n",
       "  </thead>\n",
       "  <tbody>\n",
       "    <tr>\n",
       "      <th>0</th>\n",
       "      <td>1280981422329509</td>\n",
       "      <td>Dallas</td>\n",
       "      <td>PA</td>\n",
       "      <td>18612</td>\n",
       "      <td>6000</td>\n",
       "    </tr>\n",
       "    <tr>\n",
       "      <th>1</th>\n",
       "      <td>9737219864179988</td>\n",
       "      <td>Houston</td>\n",
       "      <td>PA</td>\n",
       "      <td>15342</td>\n",
       "      <td>16000</td>\n",
       "    </tr>\n",
       "    <tr>\n",
       "      <th>2</th>\n",
       "      <td>4749889059323202</td>\n",
       "      <td>Auburn</td>\n",
       "      <td>MA</td>\n",
       "      <td>1501</td>\n",
       "      <td>14000</td>\n",
       "    </tr>\n",
       "    <tr>\n",
       "      <th>3</th>\n",
       "      <td>9591503562024072</td>\n",
       "      <td>Orlando</td>\n",
       "      <td>WV</td>\n",
       "      <td>26412</td>\n",
       "      <td>18000</td>\n",
       "    </tr>\n",
       "    <tr>\n",
       "      <th>4</th>\n",
       "      <td>2095640259001271</td>\n",
       "      <td>New York</td>\n",
       "      <td>NY</td>\n",
       "      <td>10001</td>\n",
       "      <td>20000</td>\n",
       "    </tr>\n",
       "    <tr>\n",
       "      <th>5</th>\n",
       "      <td>1997929794676601</td>\n",
       "      <td>Atlanta</td>\n",
       "      <td>NY</td>\n",
       "      <td>14808</td>\n",
       "      <td>21000</td>\n",
       "    </tr>\n",
       "    <tr>\n",
       "      <th>6</th>\n",
       "      <td>5449610971108305</td>\n",
       "      <td>Pittsburgh</td>\n",
       "      <td>PA</td>\n",
       "      <td>15201</td>\n",
       "      <td>6000</td>\n",
       "    </tr>\n",
       "    <tr>\n",
       "      <th>7</th>\n",
       "      <td>7482288151831611</td>\n",
       "      <td>Birmingham</td>\n",
       "      <td>NJ</td>\n",
       "      <td>8011</td>\n",
       "      <td>4000</td>\n",
       "    </tr>\n",
       "    <tr>\n",
       "      <th>8</th>\n",
       "      <td>8137811493121777</td>\n",
       "      <td>Washington</td>\n",
       "      <td>NH</td>\n",
       "      <td>3280</td>\n",
       "      <td>15000</td>\n",
       "    </tr>\n",
       "    <tr>\n",
       "      <th>9</th>\n",
       "      <td>7804216189681274</td>\n",
       "      <td>Los Angeles</td>\n",
       "      <td>CA</td>\n",
       "      <td>90001</td>\n",
       "      <td>20000</td>\n",
       "    </tr>\n",
       "  </tbody>\n",
       "</table>\n",
       "</div>"
      ],
      "text/plain": [
       "        credit_card         city state  zipcode  credit_card_limit\n",
       "0  1280981422329509       Dallas    PA    18612               6000\n",
       "1  9737219864179988      Houston    PA    15342              16000\n",
       "2  4749889059323202       Auburn    MA     1501              14000\n",
       "3  9591503562024072      Orlando    WV    26412              18000\n",
       "4  2095640259001271     New York    NY    10001              20000\n",
       "5  1997929794676601      Atlanta    NY    14808              21000\n",
       "6  5449610971108305   Pittsburgh    PA    15201               6000\n",
       "7  7482288151831611   Birmingham    NJ     8011               4000\n",
       "8  8137811493121777   Washington    NH     3280              15000\n",
       "9  7804216189681274  Los Angeles    CA    90001              20000"
      ]
     },
     "execution_count": 3,
     "metadata": {},
     "output_type": "execute_result"
    }
   ],
   "source": [
    "info.head(10)"
   ]
  },
  {
   "cell_type": "code",
   "execution_count": 4,
   "metadata": {
    "ExecuteTime": {
     "end_time": "2021-03-30T03:06:47.418914Z",
     "start_time": "2021-03-30T03:06:47.394882Z"
    }
   },
   "outputs": [
    {
     "data": {
      "text/plain": [
       "(984, 5)"
      ]
     },
     "execution_count": 4,
     "metadata": {},
     "output_type": "execute_result"
    }
   ],
   "source": [
    "info.shape"
   ]
  },
  {
   "cell_type": "code",
   "execution_count": 5,
   "metadata": {
    "ExecuteTime": {
     "end_time": "2021-03-30T03:06:54.829729Z",
     "start_time": "2021-03-30T03:06:54.807929Z"
    }
   },
   "outputs": [
    {
     "name": "stdout",
     "output_type": "stream",
     "text": [
      "<class 'pandas.core.frame.DataFrame'>\n",
      "RangeIndex: 984 entries, 0 to 983\n",
      "Data columns (total 5 columns):\n",
      "credit_card          984 non-null int64\n",
      "city                 984 non-null object\n",
      "state                984 non-null object\n",
      "zipcode              984 non-null int64\n",
      "credit_card_limit    984 non-null int64\n",
      "dtypes: int64(3), object(2)\n",
      "memory usage: 38.5+ KB\n"
     ]
    }
   ],
   "source": [
    "info.info()"
   ]
  },
  {
   "cell_type": "code",
   "execution_count": 6,
   "metadata": {
    "ExecuteTime": {
     "end_time": "2021-03-30T03:07:09.664786Z",
     "start_time": "2021-03-30T03:07:09.640771Z"
    }
   },
   "outputs": [
    {
     "data": {
      "text/plain": [
       "credit_card          0\n",
       "city                 0\n",
       "state                0\n",
       "zipcode              0\n",
       "credit_card_limit    0\n",
       "dtype: int64"
      ]
     },
     "execution_count": 6,
     "metadata": {},
     "output_type": "execute_result"
    }
   ],
   "source": [
    "info.isnull().sum()"
   ]
  },
  {
   "cell_type": "code",
   "execution_count": 10,
   "metadata": {
    "ExecuteTime": {
     "end_time": "2021-03-30T03:08:58.879818Z",
     "start_time": "2021-03-30T03:08:56.504674Z"
    }
   },
   "outputs": [],
   "source": [
    "transaction = pd.read_csv('C:/Users/lizil/Dropbox/Job/Data/credit_card/transactions.csv',parse_dates = ['date'])"
   ]
  },
  {
   "cell_type": "code",
   "execution_count": 12,
   "metadata": {
    "ExecuteTime": {
     "end_time": "2021-03-30T03:09:10.238874Z",
     "start_time": "2021-03-30T03:09:10.211010Z"
    }
   },
   "outputs": [
    {
     "data": {
      "text/html": [
       "<div>\n",
       "<style scoped>\n",
       "    .dataframe tbody tr th:only-of-type {\n",
       "        vertical-align: middle;\n",
       "    }\n",
       "\n",
       "    .dataframe tbody tr th {\n",
       "        vertical-align: top;\n",
       "    }\n",
       "\n",
       "    .dataframe thead th {\n",
       "        text-align: right;\n",
       "    }\n",
       "</style>\n",
       "<table border=\"1\" class=\"dataframe\">\n",
       "  <thead>\n",
       "    <tr style=\"text-align: right;\">\n",
       "      <th></th>\n",
       "      <th>credit_card</th>\n",
       "      <th>date</th>\n",
       "      <th>transaction_dollar_amount</th>\n",
       "      <th>Long</th>\n",
       "      <th>Lat</th>\n",
       "    </tr>\n",
       "  </thead>\n",
       "  <tbody>\n",
       "    <tr>\n",
       "      <th>0</th>\n",
       "      <td>1003715054175576</td>\n",
       "      <td>2015-09-11 00:32:40</td>\n",
       "      <td>43.78</td>\n",
       "      <td>-80.174132</td>\n",
       "      <td>40.267370</td>\n",
       "    </tr>\n",
       "    <tr>\n",
       "      <th>1</th>\n",
       "      <td>1003715054175576</td>\n",
       "      <td>2015-10-24 22:23:08</td>\n",
       "      <td>103.15</td>\n",
       "      <td>-80.194240</td>\n",
       "      <td>40.180114</td>\n",
       "    </tr>\n",
       "    <tr>\n",
       "      <th>2</th>\n",
       "      <td>1003715054175576</td>\n",
       "      <td>2015-10-26 18:19:36</td>\n",
       "      <td>48.55</td>\n",
       "      <td>-80.211033</td>\n",
       "      <td>40.313004</td>\n",
       "    </tr>\n",
       "    <tr>\n",
       "      <th>3</th>\n",
       "      <td>1003715054175576</td>\n",
       "      <td>2015-10-22 19:41:10</td>\n",
       "      <td>136.18</td>\n",
       "      <td>-80.174138</td>\n",
       "      <td>40.290895</td>\n",
       "    </tr>\n",
       "    <tr>\n",
       "      <th>4</th>\n",
       "      <td>1003715054175576</td>\n",
       "      <td>2015-10-26 20:08:22</td>\n",
       "      <td>71.82</td>\n",
       "      <td>-80.238720</td>\n",
       "      <td>40.166719</td>\n",
       "    </tr>\n",
       "    <tr>\n",
       "      <th>5</th>\n",
       "      <td>1003715054175576</td>\n",
       "      <td>2015-10-17 21:28:57</td>\n",
       "      <td>121.60</td>\n",
       "      <td>-80.243565</td>\n",
       "      <td>40.260887</td>\n",
       "    </tr>\n",
       "    <tr>\n",
       "      <th>6</th>\n",
       "      <td>1003715054175576</td>\n",
       "      <td>2015-08-29 18:34:04</td>\n",
       "      <td>122.65</td>\n",
       "      <td>-80.238186</td>\n",
       "      <td>40.245928</td>\n",
       "    </tr>\n",
       "    <tr>\n",
       "      <th>7</th>\n",
       "      <td>1003715054175576</td>\n",
       "      <td>2015-08-14 21:34:39</td>\n",
       "      <td>98.00</td>\n",
       "      <td>-80.244063</td>\n",
       "      <td>40.249143</td>\n",
       "    </tr>\n",
       "    <tr>\n",
       "      <th>8</th>\n",
       "      <td>1003715054175576</td>\n",
       "      <td>2015-09-17 19:20:37</td>\n",
       "      <td>95.20</td>\n",
       "      <td>-2.833179</td>\n",
       "      <td>34.745015</td>\n",
       "    </tr>\n",
       "    <tr>\n",
       "      <th>9</th>\n",
       "      <td>1003715054175576</td>\n",
       "      <td>2015-09-11 18:59:04</td>\n",
       "      <td>57.95</td>\n",
       "      <td>-80.287528</td>\n",
       "      <td>40.267874</td>\n",
       "    </tr>\n",
       "  </tbody>\n",
       "</table>\n",
       "</div>"
      ],
      "text/plain": [
       "        credit_card                date  transaction_dollar_amount       Long  \\\n",
       "0  1003715054175576 2015-09-11 00:32:40                      43.78 -80.174132   \n",
       "1  1003715054175576 2015-10-24 22:23:08                     103.15 -80.194240   \n",
       "2  1003715054175576 2015-10-26 18:19:36                      48.55 -80.211033   \n",
       "3  1003715054175576 2015-10-22 19:41:10                     136.18 -80.174138   \n",
       "4  1003715054175576 2015-10-26 20:08:22                      71.82 -80.238720   \n",
       "5  1003715054175576 2015-10-17 21:28:57                     121.60 -80.243565   \n",
       "6  1003715054175576 2015-08-29 18:34:04                     122.65 -80.238186   \n",
       "7  1003715054175576 2015-08-14 21:34:39                      98.00 -80.244063   \n",
       "8  1003715054175576 2015-09-17 19:20:37                      95.20  -2.833179   \n",
       "9  1003715054175576 2015-09-11 18:59:04                      57.95 -80.287528   \n",
       "\n",
       "         Lat  \n",
       "0  40.267370  \n",
       "1  40.180114  \n",
       "2  40.313004  \n",
       "3  40.290895  \n",
       "4  40.166719  \n",
       "5  40.260887  \n",
       "6  40.245928  \n",
       "7  40.249143  \n",
       "8  34.745015  \n",
       "9  40.267874  "
      ]
     },
     "execution_count": 12,
     "metadata": {},
     "output_type": "execute_result"
    }
   ],
   "source": [
    "transaction.head(10)"
   ]
  },
  {
   "cell_type": "code",
   "execution_count": 13,
   "metadata": {
    "ExecuteTime": {
     "end_time": "2021-03-30T03:09:26.853284Z",
     "start_time": "2021-03-30T03:09:26.845474Z"
    }
   },
   "outputs": [
    {
     "data": {
      "text/plain": [
       "(294588, 5)"
      ]
     },
     "execution_count": 13,
     "metadata": {},
     "output_type": "execute_result"
    }
   ],
   "source": [
    "transaction.shape"
   ]
  },
  {
   "cell_type": "code",
   "execution_count": 14,
   "metadata": {
    "ExecuteTime": {
     "end_time": "2021-03-30T03:09:39.607688Z",
     "start_time": "2021-03-30T03:09:39.537030Z"
    }
   },
   "outputs": [
    {
     "name": "stdout",
     "output_type": "stream",
     "text": [
      "<class 'pandas.core.frame.DataFrame'>\n",
      "RangeIndex: 294588 entries, 0 to 294587\n",
      "Data columns (total 5 columns):\n",
      "credit_card                  294588 non-null int64\n",
      "date                         294588 non-null datetime64[ns]\n",
      "transaction_dollar_amount    294588 non-null float64\n",
      "Long                         294588 non-null float64\n",
      "Lat                          294588 non-null float64\n",
      "dtypes: datetime64[ns](1), float64(3), int64(1)\n",
      "memory usage: 11.2 MB\n"
     ]
    }
   ],
   "source": [
    "transaction.info()"
   ]
  },
  {
   "cell_type": "code",
   "execution_count": 15,
   "metadata": {
    "ExecuteTime": {
     "end_time": "2021-03-30T03:09:58.603324Z",
     "start_time": "2021-03-30T03:09:58.527464Z"
    }
   },
   "outputs": [
    {
     "data": {
      "text/plain": [
       "credit_card                  0\n",
       "date                         0\n",
       "transaction_dollar_amount    0\n",
       "Long                         0\n",
       "Lat                          0\n",
       "dtype: int64"
      ]
     },
     "execution_count": 15,
     "metadata": {},
     "output_type": "execute_result"
    }
   ],
   "source": [
    "transaction.isnull().sum()"
   ]
  },
  {
   "cell_type": "code",
   "execution_count": 18,
   "metadata": {
    "ExecuteTime": {
     "end_time": "2021-03-30T03:11:33.023496Z",
     "start_time": "2021-03-30T03:11:32.869619Z"
    }
   },
   "outputs": [
    {
     "data": {
      "text/html": [
       "<div>\n",
       "<style scoped>\n",
       "    .dataframe tbody tr th:only-of-type {\n",
       "        vertical-align: middle;\n",
       "    }\n",
       "\n",
       "    .dataframe tbody tr th {\n",
       "        vertical-align: top;\n",
       "    }\n",
       "\n",
       "    .dataframe thead th {\n",
       "        text-align: right;\n",
       "    }\n",
       "</style>\n",
       "<table border=\"1\" class=\"dataframe\">\n",
       "  <thead>\n",
       "    <tr style=\"text-align: right;\">\n",
       "      <th></th>\n",
       "      <th>credit_card</th>\n",
       "      <th>transaction_dollar_amount</th>\n",
       "      <th>Long</th>\n",
       "      <th>Lat</th>\n",
       "    </tr>\n",
       "  </thead>\n",
       "  <tbody>\n",
       "    <tr>\n",
       "      <th>count</th>\n",
       "      <td>2.945880e+05</td>\n",
       "      <td>294588.000000</td>\n",
       "      <td>294588.000000</td>\n",
       "      <td>294588.000000</td>\n",
       "    </tr>\n",
       "    <tr>\n",
       "      <th>mean</th>\n",
       "      <td>5.424562e+15</td>\n",
       "      <td>86.008036</td>\n",
       "      <td>-76.235238</td>\n",
       "      <td>40.937669</td>\n",
       "    </tr>\n",
       "    <tr>\n",
       "      <th>std</th>\n",
       "      <td>2.555803e+15</td>\n",
       "      <td>124.655954</td>\n",
       "      <td>20.135015</td>\n",
       "      <td>5.391695</td>\n",
       "    </tr>\n",
       "    <tr>\n",
       "      <th>min</th>\n",
       "      <td>1.003715e+15</td>\n",
       "      <td>0.010000</td>\n",
       "      <td>-179.392887</td>\n",
       "      <td>-68.046553</td>\n",
       "    </tr>\n",
       "    <tr>\n",
       "      <th>25%</th>\n",
       "      <td>3.344214e+15</td>\n",
       "      <td>29.970000</td>\n",
       "      <td>-80.209708</td>\n",
       "      <td>40.487726</td>\n",
       "    </tr>\n",
       "    <tr>\n",
       "      <th>50%</th>\n",
       "      <td>5.353426e+15</td>\n",
       "      <td>58.470000</td>\n",
       "      <td>-73.199737</td>\n",
       "      <td>42.403066</td>\n",
       "    </tr>\n",
       "    <tr>\n",
       "      <th>75%</th>\n",
       "      <td>7.646245e+15</td>\n",
       "      <td>100.400000</td>\n",
       "      <td>-72.091933</td>\n",
       "      <td>43.180015</td>\n",
       "    </tr>\n",
       "    <tr>\n",
       "      <th>max</th>\n",
       "      <td>9.999757e+15</td>\n",
       "      <td>999.970000</td>\n",
       "      <td>179.917513</td>\n",
       "      <td>78.914330</td>\n",
       "    </tr>\n",
       "  </tbody>\n",
       "</table>\n",
       "</div>"
      ],
      "text/plain": [
       "        credit_card  transaction_dollar_amount           Long            Lat\n",
       "count  2.945880e+05              294588.000000  294588.000000  294588.000000\n",
       "mean   5.424562e+15                  86.008036     -76.235238      40.937669\n",
       "std    2.555803e+15                 124.655954      20.135015       5.391695\n",
       "min    1.003715e+15                   0.010000    -179.392887     -68.046553\n",
       "25%    3.344214e+15                  29.970000     -80.209708      40.487726\n",
       "50%    5.353426e+15                  58.470000     -73.199737      42.403066\n",
       "75%    7.646245e+15                 100.400000     -72.091933      43.180015\n",
       "max    9.999757e+15                 999.970000     179.917513      78.914330"
      ]
     },
     "execution_count": 18,
     "metadata": {},
     "output_type": "execute_result"
    }
   ],
   "source": [
    "transaction.describe()"
   ]
  },
  {
   "cell_type": "markdown",
   "metadata": {},
   "source": [
    "# Data Merging"
   ]
  },
  {
   "cell_type": "code",
   "execution_count": 19,
   "metadata": {
    "ExecuteTime": {
     "end_time": "2021-03-30T16:43:59.692998Z",
     "start_time": "2021-03-30T16:43:59.618011Z"
    }
   },
   "outputs": [
    {
     "data": {
      "text/html": [
       "<div>\n",
       "<style scoped>\n",
       "    .dataframe tbody tr th:only-of-type {\n",
       "        vertical-align: middle;\n",
       "    }\n",
       "\n",
       "    .dataframe tbody tr th {\n",
       "        vertical-align: top;\n",
       "    }\n",
       "\n",
       "    .dataframe thead th {\n",
       "        text-align: right;\n",
       "    }\n",
       "</style>\n",
       "<table border=\"1\" class=\"dataframe\">\n",
       "  <thead>\n",
       "    <tr style=\"text-align: right;\">\n",
       "      <th></th>\n",
       "      <th>credit_card</th>\n",
       "      <th>date</th>\n",
       "      <th>transaction_dollar_amount</th>\n",
       "      <th>Long</th>\n",
       "      <th>Lat</th>\n",
       "      <th>city</th>\n",
       "      <th>state</th>\n",
       "      <th>zipcode</th>\n",
       "      <th>credit_card_limit</th>\n",
       "    </tr>\n",
       "  </thead>\n",
       "  <tbody>\n",
       "    <tr>\n",
       "      <th>0</th>\n",
       "      <td>1003715054175576</td>\n",
       "      <td>2015-09-11 00:32:40</td>\n",
       "      <td>43.78</td>\n",
       "      <td>-80.174132</td>\n",
       "      <td>40.267370</td>\n",
       "      <td>Houston</td>\n",
       "      <td>PA</td>\n",
       "      <td>15342</td>\n",
       "      <td>20000</td>\n",
       "    </tr>\n",
       "    <tr>\n",
       "      <th>1</th>\n",
       "      <td>1003715054175576</td>\n",
       "      <td>2015-10-24 22:23:08</td>\n",
       "      <td>103.15</td>\n",
       "      <td>-80.194240</td>\n",
       "      <td>40.180114</td>\n",
       "      <td>Houston</td>\n",
       "      <td>PA</td>\n",
       "      <td>15342</td>\n",
       "      <td>20000</td>\n",
       "    </tr>\n",
       "    <tr>\n",
       "      <th>2</th>\n",
       "      <td>1003715054175576</td>\n",
       "      <td>2015-10-26 18:19:36</td>\n",
       "      <td>48.55</td>\n",
       "      <td>-80.211033</td>\n",
       "      <td>40.313004</td>\n",
       "      <td>Houston</td>\n",
       "      <td>PA</td>\n",
       "      <td>15342</td>\n",
       "      <td>20000</td>\n",
       "    </tr>\n",
       "    <tr>\n",
       "      <th>3</th>\n",
       "      <td>1003715054175576</td>\n",
       "      <td>2015-10-22 19:41:10</td>\n",
       "      <td>136.18</td>\n",
       "      <td>-80.174138</td>\n",
       "      <td>40.290895</td>\n",
       "      <td>Houston</td>\n",
       "      <td>PA</td>\n",
       "      <td>15342</td>\n",
       "      <td>20000</td>\n",
       "    </tr>\n",
       "    <tr>\n",
       "      <th>4</th>\n",
       "      <td>1003715054175576</td>\n",
       "      <td>2015-10-26 20:08:22</td>\n",
       "      <td>71.82</td>\n",
       "      <td>-80.238720</td>\n",
       "      <td>40.166719</td>\n",
       "      <td>Houston</td>\n",
       "      <td>PA</td>\n",
       "      <td>15342</td>\n",
       "      <td>20000</td>\n",
       "    </tr>\n",
       "    <tr>\n",
       "      <th>5</th>\n",
       "      <td>1003715054175576</td>\n",
       "      <td>2015-10-17 21:28:57</td>\n",
       "      <td>121.60</td>\n",
       "      <td>-80.243565</td>\n",
       "      <td>40.260887</td>\n",
       "      <td>Houston</td>\n",
       "      <td>PA</td>\n",
       "      <td>15342</td>\n",
       "      <td>20000</td>\n",
       "    </tr>\n",
       "    <tr>\n",
       "      <th>6</th>\n",
       "      <td>1003715054175576</td>\n",
       "      <td>2015-08-29 18:34:04</td>\n",
       "      <td>122.65</td>\n",
       "      <td>-80.238186</td>\n",
       "      <td>40.245928</td>\n",
       "      <td>Houston</td>\n",
       "      <td>PA</td>\n",
       "      <td>15342</td>\n",
       "      <td>20000</td>\n",
       "    </tr>\n",
       "    <tr>\n",
       "      <th>7</th>\n",
       "      <td>1003715054175576</td>\n",
       "      <td>2015-08-14 21:34:39</td>\n",
       "      <td>98.00</td>\n",
       "      <td>-80.244063</td>\n",
       "      <td>40.249143</td>\n",
       "      <td>Houston</td>\n",
       "      <td>PA</td>\n",
       "      <td>15342</td>\n",
       "      <td>20000</td>\n",
       "    </tr>\n",
       "    <tr>\n",
       "      <th>8</th>\n",
       "      <td>1003715054175576</td>\n",
       "      <td>2015-09-17 19:20:37</td>\n",
       "      <td>95.20</td>\n",
       "      <td>-2.833179</td>\n",
       "      <td>34.745015</td>\n",
       "      <td>Houston</td>\n",
       "      <td>PA</td>\n",
       "      <td>15342</td>\n",
       "      <td>20000</td>\n",
       "    </tr>\n",
       "    <tr>\n",
       "      <th>9</th>\n",
       "      <td>1003715054175576</td>\n",
       "      <td>2015-09-11 18:59:04</td>\n",
       "      <td>57.95</td>\n",
       "      <td>-80.287528</td>\n",
       "      <td>40.267874</td>\n",
       "      <td>Houston</td>\n",
       "      <td>PA</td>\n",
       "      <td>15342</td>\n",
       "      <td>20000</td>\n",
       "    </tr>\n",
       "  </tbody>\n",
       "</table>\n",
       "</div>"
      ],
      "text/plain": [
       "        credit_card                date  transaction_dollar_amount       Long  \\\n",
       "0  1003715054175576 2015-09-11 00:32:40                      43.78 -80.174132   \n",
       "1  1003715054175576 2015-10-24 22:23:08                     103.15 -80.194240   \n",
       "2  1003715054175576 2015-10-26 18:19:36                      48.55 -80.211033   \n",
       "3  1003715054175576 2015-10-22 19:41:10                     136.18 -80.174138   \n",
       "4  1003715054175576 2015-10-26 20:08:22                      71.82 -80.238720   \n",
       "5  1003715054175576 2015-10-17 21:28:57                     121.60 -80.243565   \n",
       "6  1003715054175576 2015-08-29 18:34:04                     122.65 -80.238186   \n",
       "7  1003715054175576 2015-08-14 21:34:39                      98.00 -80.244063   \n",
       "8  1003715054175576 2015-09-17 19:20:37                      95.20  -2.833179   \n",
       "9  1003715054175576 2015-09-11 18:59:04                      57.95 -80.287528   \n",
       "\n",
       "         Lat     city state  zipcode  credit_card_limit  \n",
       "0  40.267370  Houston    PA    15342              20000  \n",
       "1  40.180114  Houston    PA    15342              20000  \n",
       "2  40.313004  Houston    PA    15342              20000  \n",
       "3  40.290895  Houston    PA    15342              20000  \n",
       "4  40.166719  Houston    PA    15342              20000  \n",
       "5  40.260887  Houston    PA    15342              20000  \n",
       "6  40.245928  Houston    PA    15342              20000  \n",
       "7  40.249143  Houston    PA    15342              20000  \n",
       "8  34.745015  Houston    PA    15342              20000  \n",
       "9  40.267874  Houston    PA    15342              20000  "
      ]
     },
     "execution_count": 19,
     "metadata": {},
     "output_type": "execute_result"
    }
   ],
   "source": [
    "data = pd.merge(left = transaction, right = info, how='left',on='credit_card')\n",
    "data.head(10)"
   ]
  },
  {
   "cell_type": "code",
   "execution_count": 20,
   "metadata": {
    "ExecuteTime": {
     "end_time": "2021-03-30T16:44:16.505942Z",
     "start_time": "2021-03-30T16:44:16.426939Z"
    }
   },
   "outputs": [
    {
     "data": {
      "text/plain": [
       "credit_card                  0\n",
       "date                         0\n",
       "transaction_dollar_amount    0\n",
       "Long                         0\n",
       "Lat                          0\n",
       "city                         0\n",
       "state                        0\n",
       "zipcode                      0\n",
       "credit_card_limit            0\n",
       "dtype: int64"
      ]
     },
     "execution_count": 20,
     "metadata": {},
     "output_type": "execute_result"
    }
   ],
   "source": [
    "data.isnull().sum()"
   ]
  },
  {
   "cell_type": "markdown",
   "metadata": {},
   "source": [
    "# Question 1"
   ]
  },
  {
   "cell_type": "markdown",
   "metadata": {},
   "source": [
    "Your boss wants to identify those users that in your dataset never went above the monthly credit card limit (calendar month). The goal of this is to automatically increase their limit. Can you send him the list of Ids?"
   ]
  },
  {
   "cell_type": "code",
   "execution_count": 27,
   "metadata": {
    "ExecuteTime": {
     "end_time": "2021-03-30T16:51:33.057795Z",
     "start_time": "2021-03-30T16:51:31.751034Z"
    }
   },
   "outputs": [],
   "source": [
    "data['trans_month'] = data['date'].apply(lambda x: x.month)"
   ]
  },
  {
   "cell_type": "code",
   "execution_count": 28,
   "metadata": {
    "ExecuteTime": {
     "end_time": "2021-03-30T16:51:37.756960Z",
     "start_time": "2021-03-30T16:51:37.732947Z"
    }
   },
   "outputs": [
    {
     "data": {
      "text/html": [
       "<div>\n",
       "<style scoped>\n",
       "    .dataframe tbody tr th:only-of-type {\n",
       "        vertical-align: middle;\n",
       "    }\n",
       "\n",
       "    .dataframe tbody tr th {\n",
       "        vertical-align: top;\n",
       "    }\n",
       "\n",
       "    .dataframe thead th {\n",
       "        text-align: right;\n",
       "    }\n",
       "</style>\n",
       "<table border=\"1\" class=\"dataframe\">\n",
       "  <thead>\n",
       "    <tr style=\"text-align: right;\">\n",
       "      <th></th>\n",
       "      <th>credit_card</th>\n",
       "      <th>date</th>\n",
       "      <th>transaction_dollar_amount</th>\n",
       "      <th>Long</th>\n",
       "      <th>Lat</th>\n",
       "      <th>city</th>\n",
       "      <th>state</th>\n",
       "      <th>zipcode</th>\n",
       "      <th>credit_card_limit</th>\n",
       "      <th>trans_month</th>\n",
       "    </tr>\n",
       "  </thead>\n",
       "  <tbody>\n",
       "    <tr>\n",
       "      <th>0</th>\n",
       "      <td>1003715054175576</td>\n",
       "      <td>2015-09-11 00:32:40</td>\n",
       "      <td>43.78</td>\n",
       "      <td>-80.174132</td>\n",
       "      <td>40.267370</td>\n",
       "      <td>Houston</td>\n",
       "      <td>PA</td>\n",
       "      <td>15342</td>\n",
       "      <td>20000</td>\n",
       "      <td>9</td>\n",
       "    </tr>\n",
       "    <tr>\n",
       "      <th>1</th>\n",
       "      <td>1003715054175576</td>\n",
       "      <td>2015-10-24 22:23:08</td>\n",
       "      <td>103.15</td>\n",
       "      <td>-80.194240</td>\n",
       "      <td>40.180114</td>\n",
       "      <td>Houston</td>\n",
       "      <td>PA</td>\n",
       "      <td>15342</td>\n",
       "      <td>20000</td>\n",
       "      <td>10</td>\n",
       "    </tr>\n",
       "    <tr>\n",
       "      <th>2</th>\n",
       "      <td>1003715054175576</td>\n",
       "      <td>2015-10-26 18:19:36</td>\n",
       "      <td>48.55</td>\n",
       "      <td>-80.211033</td>\n",
       "      <td>40.313004</td>\n",
       "      <td>Houston</td>\n",
       "      <td>PA</td>\n",
       "      <td>15342</td>\n",
       "      <td>20000</td>\n",
       "      <td>10</td>\n",
       "    </tr>\n",
       "    <tr>\n",
       "      <th>3</th>\n",
       "      <td>1003715054175576</td>\n",
       "      <td>2015-10-22 19:41:10</td>\n",
       "      <td>136.18</td>\n",
       "      <td>-80.174138</td>\n",
       "      <td>40.290895</td>\n",
       "      <td>Houston</td>\n",
       "      <td>PA</td>\n",
       "      <td>15342</td>\n",
       "      <td>20000</td>\n",
       "      <td>10</td>\n",
       "    </tr>\n",
       "    <tr>\n",
       "      <th>4</th>\n",
       "      <td>1003715054175576</td>\n",
       "      <td>2015-10-26 20:08:22</td>\n",
       "      <td>71.82</td>\n",
       "      <td>-80.238720</td>\n",
       "      <td>40.166719</td>\n",
       "      <td>Houston</td>\n",
       "      <td>PA</td>\n",
       "      <td>15342</td>\n",
       "      <td>20000</td>\n",
       "      <td>10</td>\n",
       "    </tr>\n",
       "    <tr>\n",
       "      <th>5</th>\n",
       "      <td>1003715054175576</td>\n",
       "      <td>2015-10-17 21:28:57</td>\n",
       "      <td>121.60</td>\n",
       "      <td>-80.243565</td>\n",
       "      <td>40.260887</td>\n",
       "      <td>Houston</td>\n",
       "      <td>PA</td>\n",
       "      <td>15342</td>\n",
       "      <td>20000</td>\n",
       "      <td>10</td>\n",
       "    </tr>\n",
       "    <tr>\n",
       "      <th>6</th>\n",
       "      <td>1003715054175576</td>\n",
       "      <td>2015-08-29 18:34:04</td>\n",
       "      <td>122.65</td>\n",
       "      <td>-80.238186</td>\n",
       "      <td>40.245928</td>\n",
       "      <td>Houston</td>\n",
       "      <td>PA</td>\n",
       "      <td>15342</td>\n",
       "      <td>20000</td>\n",
       "      <td>8</td>\n",
       "    </tr>\n",
       "    <tr>\n",
       "      <th>7</th>\n",
       "      <td>1003715054175576</td>\n",
       "      <td>2015-08-14 21:34:39</td>\n",
       "      <td>98.00</td>\n",
       "      <td>-80.244063</td>\n",
       "      <td>40.249143</td>\n",
       "      <td>Houston</td>\n",
       "      <td>PA</td>\n",
       "      <td>15342</td>\n",
       "      <td>20000</td>\n",
       "      <td>8</td>\n",
       "    </tr>\n",
       "    <tr>\n",
       "      <th>8</th>\n",
       "      <td>1003715054175576</td>\n",
       "      <td>2015-09-17 19:20:37</td>\n",
       "      <td>95.20</td>\n",
       "      <td>-2.833179</td>\n",
       "      <td>34.745015</td>\n",
       "      <td>Houston</td>\n",
       "      <td>PA</td>\n",
       "      <td>15342</td>\n",
       "      <td>20000</td>\n",
       "      <td>9</td>\n",
       "    </tr>\n",
       "    <tr>\n",
       "      <th>9</th>\n",
       "      <td>1003715054175576</td>\n",
       "      <td>2015-09-11 18:59:04</td>\n",
       "      <td>57.95</td>\n",
       "      <td>-80.287528</td>\n",
       "      <td>40.267874</td>\n",
       "      <td>Houston</td>\n",
       "      <td>PA</td>\n",
       "      <td>15342</td>\n",
       "      <td>20000</td>\n",
       "      <td>9</td>\n",
       "    </tr>\n",
       "  </tbody>\n",
       "</table>\n",
       "</div>"
      ],
      "text/plain": [
       "        credit_card                date  transaction_dollar_amount       Long  \\\n",
       "0  1003715054175576 2015-09-11 00:32:40                      43.78 -80.174132   \n",
       "1  1003715054175576 2015-10-24 22:23:08                     103.15 -80.194240   \n",
       "2  1003715054175576 2015-10-26 18:19:36                      48.55 -80.211033   \n",
       "3  1003715054175576 2015-10-22 19:41:10                     136.18 -80.174138   \n",
       "4  1003715054175576 2015-10-26 20:08:22                      71.82 -80.238720   \n",
       "5  1003715054175576 2015-10-17 21:28:57                     121.60 -80.243565   \n",
       "6  1003715054175576 2015-08-29 18:34:04                     122.65 -80.238186   \n",
       "7  1003715054175576 2015-08-14 21:34:39                      98.00 -80.244063   \n",
       "8  1003715054175576 2015-09-17 19:20:37                      95.20  -2.833179   \n",
       "9  1003715054175576 2015-09-11 18:59:04                      57.95 -80.287528   \n",
       "\n",
       "         Lat     city state  zipcode  credit_card_limit  trans_month  \n",
       "0  40.267370  Houston    PA    15342              20000            9  \n",
       "1  40.180114  Houston    PA    15342              20000           10  \n",
       "2  40.313004  Houston    PA    15342              20000           10  \n",
       "3  40.290895  Houston    PA    15342              20000           10  \n",
       "4  40.166719  Houston    PA    15342              20000           10  \n",
       "5  40.260887  Houston    PA    15342              20000           10  \n",
       "6  40.245928  Houston    PA    15342              20000            8  \n",
       "7  40.249143  Houston    PA    15342              20000            8  \n",
       "8  34.745015  Houston    PA    15342              20000            9  \n",
       "9  40.267874  Houston    PA    15342              20000            9  "
      ]
     },
     "execution_count": 28,
     "metadata": {},
     "output_type": "execute_result"
    }
   ],
   "source": [
    "data.head(10)"
   ]
  },
  {
   "cell_type": "code",
   "execution_count": 37,
   "metadata": {
    "ExecuteTime": {
     "end_time": "2021-03-30T17:07:10.131148Z",
     "start_time": "2021-03-30T17:07:10.054979Z"
    }
   },
   "outputs": [
    {
     "data": {
      "text/html": [
       "<div>\n",
       "<style scoped>\n",
       "    .dataframe tbody tr th:only-of-type {\n",
       "        vertical-align: middle;\n",
       "    }\n",
       "\n",
       "    .dataframe tbody tr th {\n",
       "        vertical-align: top;\n",
       "    }\n",
       "\n",
       "    .dataframe thead th {\n",
       "        text-align: right;\n",
       "    }\n",
       "</style>\n",
       "<table border=\"1\" class=\"dataframe\">\n",
       "  <thead>\n",
       "    <tr style=\"text-align: right;\">\n",
       "      <th></th>\n",
       "      <th>credit_card</th>\n",
       "      <th>trans_month</th>\n",
       "      <th>transaction_dollar_amount</th>\n",
       "    </tr>\n",
       "  </thead>\n",
       "  <tbody>\n",
       "    <tr>\n",
       "      <th>0</th>\n",
       "      <td>1003715054175576</td>\n",
       "      <td>7</td>\n",
       "      <td>162.56</td>\n",
       "    </tr>\n",
       "    <tr>\n",
       "      <th>1</th>\n",
       "      <td>1003715054175576</td>\n",
       "      <td>8</td>\n",
       "      <td>8441.51</td>\n",
       "    </tr>\n",
       "    <tr>\n",
       "      <th>2</th>\n",
       "      <td>1003715054175576</td>\n",
       "      <td>9</td>\n",
       "      <td>11281.56</td>\n",
       "    </tr>\n",
       "    <tr>\n",
       "      <th>3</th>\n",
       "      <td>1003715054175576</td>\n",
       "      <td>10</td>\n",
       "      <td>8954.21</td>\n",
       "    </tr>\n",
       "    <tr>\n",
       "      <th>4</th>\n",
       "      <td>1013870087888817</td>\n",
       "      <td>7</td>\n",
       "      <td>281.43</td>\n",
       "    </tr>\n",
       "    <tr>\n",
       "      <th>5</th>\n",
       "      <td>1013870087888817</td>\n",
       "      <td>8</td>\n",
       "      <td>11981.15</td>\n",
       "    </tr>\n",
       "    <tr>\n",
       "      <th>6</th>\n",
       "      <td>1013870087888817</td>\n",
       "      <td>9</td>\n",
       "      <td>12461.96</td>\n",
       "    </tr>\n",
       "    <tr>\n",
       "      <th>7</th>\n",
       "      <td>1013870087888817</td>\n",
       "      <td>10</td>\n",
       "      <td>12090.34</td>\n",
       "    </tr>\n",
       "    <tr>\n",
       "      <th>8</th>\n",
       "      <td>1023820165155391</td>\n",
       "      <td>7</td>\n",
       "      <td>943.26</td>\n",
       "    </tr>\n",
       "    <tr>\n",
       "      <th>9</th>\n",
       "      <td>1023820165155391</td>\n",
       "      <td>8</td>\n",
       "      <td>22741.20</td>\n",
       "    </tr>\n",
       "  </tbody>\n",
       "</table>\n",
       "</div>"
      ],
      "text/plain": [
       "        credit_card  trans_month  transaction_dollar_amount\n",
       "0  1003715054175576            7                     162.56\n",
       "1  1003715054175576            8                    8441.51\n",
       "2  1003715054175576            9                   11281.56\n",
       "3  1003715054175576           10                    8954.21\n",
       "4  1013870087888817            7                     281.43\n",
       "5  1013870087888817            8                   11981.15\n",
       "6  1013870087888817            9                   12461.96\n",
       "7  1013870087888817           10                   12090.34\n",
       "8  1023820165155391            7                     943.26\n",
       "9  1023820165155391            8                   22741.20"
      ]
     },
     "execution_count": 37,
     "metadata": {},
     "output_type": "execute_result"
    }
   ],
   "source": [
    "total_trans = data[['trans_month','transaction_dollar_amount','credit_card']].groupby(['credit_card','trans_month']).sum().reset_index()\n",
    "total_trans.head(10)"
   ]
  },
  {
   "cell_type": "code",
   "execution_count": 38,
   "metadata": {
    "ExecuteTime": {
     "end_time": "2021-03-30T17:07:13.398597Z",
     "start_time": "2021-03-30T17:07:13.379613Z"
    }
   },
   "outputs": [
    {
     "data": {
      "text/html": [
       "<div>\n",
       "<style scoped>\n",
       "    .dataframe tbody tr th:only-of-type {\n",
       "        vertical-align: middle;\n",
       "    }\n",
       "\n",
       "    .dataframe tbody tr th {\n",
       "        vertical-align: top;\n",
       "    }\n",
       "\n",
       "    .dataframe thead th {\n",
       "        text-align: right;\n",
       "    }\n",
       "</style>\n",
       "<table border=\"1\" class=\"dataframe\">\n",
       "  <thead>\n",
       "    <tr style=\"text-align: right;\">\n",
       "      <th></th>\n",
       "      <th>credit_card</th>\n",
       "      <th>trans_month</th>\n",
       "      <th>transaction_dollar_amount</th>\n",
       "      <th>credit_card_limit</th>\n",
       "    </tr>\n",
       "  </thead>\n",
       "  <tbody>\n",
       "    <tr>\n",
       "      <th>0</th>\n",
       "      <td>1003715054175576</td>\n",
       "      <td>7</td>\n",
       "      <td>162.56</td>\n",
       "      <td>20000</td>\n",
       "    </tr>\n",
       "    <tr>\n",
       "      <th>1</th>\n",
       "      <td>1003715054175576</td>\n",
       "      <td>8</td>\n",
       "      <td>8441.51</td>\n",
       "      <td>20000</td>\n",
       "    </tr>\n",
       "    <tr>\n",
       "      <th>2</th>\n",
       "      <td>1003715054175576</td>\n",
       "      <td>9</td>\n",
       "      <td>11281.56</td>\n",
       "      <td>20000</td>\n",
       "    </tr>\n",
       "    <tr>\n",
       "      <th>3</th>\n",
       "      <td>1003715054175576</td>\n",
       "      <td>10</td>\n",
       "      <td>8954.21</td>\n",
       "      <td>20000</td>\n",
       "    </tr>\n",
       "    <tr>\n",
       "      <th>4</th>\n",
       "      <td>1013870087888817</td>\n",
       "      <td>7</td>\n",
       "      <td>281.43</td>\n",
       "      <td>15000</td>\n",
       "    </tr>\n",
       "    <tr>\n",
       "      <th>5</th>\n",
       "      <td>1013870087888817</td>\n",
       "      <td>8</td>\n",
       "      <td>11981.15</td>\n",
       "      <td>15000</td>\n",
       "    </tr>\n",
       "    <tr>\n",
       "      <th>6</th>\n",
       "      <td>1013870087888817</td>\n",
       "      <td>9</td>\n",
       "      <td>12461.96</td>\n",
       "      <td>15000</td>\n",
       "    </tr>\n",
       "    <tr>\n",
       "      <th>7</th>\n",
       "      <td>1013870087888817</td>\n",
       "      <td>10</td>\n",
       "      <td>12090.34</td>\n",
       "      <td>15000</td>\n",
       "    </tr>\n",
       "    <tr>\n",
       "      <th>8</th>\n",
       "      <td>1023820165155391</td>\n",
       "      <td>7</td>\n",
       "      <td>943.26</td>\n",
       "      <td>28000</td>\n",
       "    </tr>\n",
       "    <tr>\n",
       "      <th>9</th>\n",
       "      <td>1023820165155391</td>\n",
       "      <td>8</td>\n",
       "      <td>22741.20</td>\n",
       "      <td>28000</td>\n",
       "    </tr>\n",
       "  </tbody>\n",
       "</table>\n",
       "</div>"
      ],
      "text/plain": [
       "        credit_card  trans_month  transaction_dollar_amount  credit_card_limit\n",
       "0  1003715054175576            7                     162.56              20000\n",
       "1  1003715054175576            8                    8441.51              20000\n",
       "2  1003715054175576            9                   11281.56              20000\n",
       "3  1003715054175576           10                    8954.21              20000\n",
       "4  1013870087888817            7                     281.43              15000\n",
       "5  1013870087888817            8                   11981.15              15000\n",
       "6  1013870087888817            9                   12461.96              15000\n",
       "7  1013870087888817           10                   12090.34              15000\n",
       "8  1023820165155391            7                     943.26              28000\n",
       "9  1023820165155391            8                   22741.20              28000"
      ]
     },
     "execution_count": 38,
     "metadata": {},
     "output_type": "execute_result"
    }
   ],
   "source": [
    "total_trans = pd.merge(left = total_trans, right = info[['credit_card','credit_card_limit']], how='left', on='credit_card')\n",
    "total_trans.head(10)"
   ]
  },
  {
   "cell_type": "code",
   "execution_count": 49,
   "metadata": {
    "ExecuteTime": {
     "end_time": "2021-03-30T17:58:13.202085Z",
     "start_time": "2021-03-30T17:58:13.187097Z"
    }
   },
   "outputs": [],
   "source": [
    "bad_list = list(total_trans[total_trans['transaction_dollar_amount']>total_trans['credit_card_limit']]['credit_card'].unique())"
   ]
  },
  {
   "cell_type": "code",
   "execution_count": 56,
   "metadata": {
    "ExecuteTime": {
     "end_time": "2021-03-30T17:59:55.498649Z",
     "start_time": "2021-03-30T17:59:55.489649Z"
    }
   },
   "outputs": [],
   "source": [
    "total_list = list(total_trans['credit_card'].unique())"
   ]
  },
  {
   "cell_type": "code",
   "execution_count": 53,
   "metadata": {
    "ExecuteTime": {
     "end_time": "2021-03-30T17:59:27.217614Z",
     "start_time": "2021-03-30T17:59:27.211612Z"
    }
   },
   "outputs": [],
   "source": [
    "good_list = list(set(total_list)-set(bad_list))"
   ]
  },
  {
   "cell_type": "code",
   "execution_count": 54,
   "metadata": {
    "ExecuteTime": {
     "end_time": "2021-03-30T17:59:33.826846Z",
     "start_time": "2021-03-30T17:59:33.809842Z"
    }
   },
   "outputs": [
    {
     "data": {
      "text/plain": [
       "862"
      ]
     },
     "execution_count": 54,
     "metadata": {},
     "output_type": "execute_result"
    }
   ],
   "source": [
    "len(good_list)"
   ]
  },
  {
   "cell_type": "code",
   "execution_count": 58,
   "metadata": {
    "ExecuteTime": {
     "end_time": "2021-03-30T18:00:09.849375Z",
     "start_time": "2021-03-30T18:00:09.838364Z"
    }
   },
   "outputs": [
    {
     "name": "stdout",
     "output_type": "stream",
     "text": [
      "[6465194079012865, 3742680218482691, 6698437277931525, 3707548197703686, 5275410446848007, 6303154567927815, 7728317158402059, 2519792944246796, 1818161941088271, 4876614541242383, 1664685555838993, 6245684915925010, 6959222140366866, 6325419957422105, 4290726060535834, 2239759218122779, 7195601645654041, 9681744051023898, 3306399358832671, 3702831934212129, 4803218554363943, 8553746017036332, 5814955316793393, 6514175342145589, 8779597037686839, 1222730774437945, 7452262324088889, 1363526625562684, 7838554896273468, 3259748360353854, 6075288092815423, 1461675388467265, 9043793084665932, 6780209767452752, 1169271395749970, 8765140629962839, 6457362521948249, 3417477890619483, 4954103748307036, 6872461016514653, 9472892860209244, 1582804611799136, 7180893798762595, 7581688456986723, 9466839319443564, 7030584443306096, 8822567299944562, 4386321242706043, 2089905184376958, 5930630722779265, 2698111742263426, 5617658887579781, 9758203643408520, 6975663682594960, 7651566467203216, 1295205764436116, 5175507030601876, 1761568277897366, 2170125942816920, 3053439628501145, 3352988767824026, 3253141560871065, 6838971510538393, 7344275932115101, 3541586324828319, 3129775937278112, 8364327933036701, 2718893247424677, 6849482510053541, 7710564188096682, 4060233054263467, 3084925533151405, 1281918894315694, 5876686859794608, 3870380583282871, 4213842418098364, 3902105116692669, 4710393737306304, 5527951937235136, 8571851067025602, 4168922642514119, 8311886363156679, 9465925894275276, 2197407580768462, 6156698325995733, 5862371394578648, 3836251327914201, 7524708568363224, 8540644680323289, 2229356545413340, 7242139332065500, 8536914250563809, 7805761625362663, 8702495698901225, 8867710239543529, 1380553699881195, 5228380053135598, 5027662896498929, 5292968988475633, 1786706888116468, 1087468642191606, 4688258194581749, 5644143320838397, 4226229431544062, 5783648852115715, 9547718659524868, 3051234642059526, 7798370940858637, 7768299333443860, 1492903951796501, 1548924125935895, 6058125552802074, 6201975636402458, 7035768975773980, 4172354071638301, 4890937775145245, 8618599746674974, 6013984457072930, 2290290643257636, 3551280959338794, 6205219558117674, 5286504827011372, 1838946782417200, 8596603091812656, 8162218322673975, 3552650080971064, 6160860237001016, 8569454397966652, 5709824612342078, 1505998080559428, 5353425661157701, 5342740779739467, 9081330229975376, 2899375199449433, 3831759517786458, 2743655125021019, 5142934429645149, 1488824811225438, 4833760023644511, 1137926374621536, 8028935620354401, 3951632727431524, 6447142363937125, 9560420950294884, 1981294676906345, 2300367582228844, 4787957227319660, 5163439090127213, 6891610450164077, 3357251116163441, 8938296722055540, 1668261999348087, 4307439154071927, 4505833195983226, 9355177312625020, 1337293370722685, 1101164752077181, 2109905364259199, 6598829254424957, 4570155620446594, 6063334769611138, 9938969980242308, 2238144513466760, 8032811535391112, 2061754198464906, 9855217884613002, 6631838888901006, 8699513399693713, 2848482178783636, 1156998467006869, 7096354853697942, 4265201268681111, 3448348878698904, 7131626365886872, 9755306333757844, 4904685164839326, 5827454659596708, 8413908390816172, 5079406362483117, 2000422161074606, 5427757726611889, 3677501628719542, 1688895281144247, 5686317975615926, 7811700299325879, 9459985559411130, 1409322756311484, 2469800015876540, 6202290276245949, 4233789026286017, 2544794177165766, 9066991493609928, 8535612911733195, 5293204730208718, 2995243184388559, 7628993515975118, 7544799337394642, 1312823087473107, 8533111210766809, 3384913269838299, 1254472912142815, 3224706753595872, 6161580285936095, 1828893451751906, 3907281016803810, 8308288662905313, 8675614747234783, 1538309249157612, 1368742094369263, 1845720274833905, 9256164582502904, 9273979691375096, 4931351520825852, 7193900293112316, 1865432240591358, 3731792856728063, 3992365863289344, 6596857396468224, 4356584115636738, 1943216273885700, 2065958041391621, 8016323385451014, 9617911327709708, 4313788156475922, 9697976691448340, 4074760985342487, 9076783251687962, 6841733273104926, 5514508235368997, 3015736744626726, 1800690977956392, 4496398325375529, 6186951577719336, 8123289635641903, 4403429977563696, 1326817464191542, 7036919029144120, 1023820165155391, 1897978162924096, 1896197396507201, 4282781825761856, 4705966876787269, 4008221261662791, 7053196367895112, 7446346770123339, 6235292123992652, 7700703753605708, 2141766487923280, 9750493074217554, 7968925716431446, 5426980759755351, 7102237366403671, 1228288249952859, 3342907490282079, 5255734714016352, 7685625385316960, 2441100449108586, 5999629725471339, 9375103964985968, 2800799152896633, 3486363890209406, 4513504763542143, 6270963060103806, 9958678964376192, 1224132812823172, 3208666010319493, 9224205015351942, 4521667837475463, 6748216777495177, 9791737612737164, 3815394949163663, 1301519430111888, 7103682245071504, 4792676311859858, 7009880545491603, 1740452094861972, 5364469336425108, 1073931538936472, 2025583437341338, 2012803986778779, 2760867830405786, 5730606033377949, 7392714892073628, 2341891378416287, 6154164379665055, 4026696367506082, 8353267890887335, 1144894232607400, 9594995194184360, 6744701624115884, 9884182241594028, 7479546374341294, 8505335594767160, 1702788839758517, 3514909947941558, 3344214228396727, 7062171597079225, 5229488282763963, 5105236644344510, 7930309756035775, 2250292384508608, 6756817030435521, 6483234875464386, 5339470339859139, 7546186362815170, 2009239634184904, 7489457910592208, 9492326065816276, 3130956058854105, 8359628052869851, 6898559558056681, 9119845117528812, 7794694461432561, 1498307521782517, 3738695168506613, 4227572855159541, 9258505119361784, 4682464059155194, 8400351495711483, 8450891535792894, 4742690566857474, 5177967593503491, 9389953638589188, 8409627988583176, 3454193028012809, 6988573032633097, 7809589434909452, 8924903425751823, 7459970825011990, 8990491830039318, 3696717918927642, 8152578549627680, 5365966946601761, 7874281252875041, 8320217550615334, 6515359867298603, 5201123369816877, 3070283164295984, 1475826831184689, 3796907537369905, 3520225040306995, 3824313030996787, 5872602762998578, 5924922891293495, 2221202850421562, 3769271071419194, 4779104415243065, 6455247676775228, 6636937316963132, 4019546939071295, 4025320586621760, 5193447888327490, 7810782077858620, 1375199270298437, 5208989390764870, 5433491746431814, 5446645498913605, 6256736424616777, 3575809678541644, 9595658147867468, 1420382222148431, 2217812082379607, 3970322957269847, 3517760483459935, 1551312972663650, 5849111629036386, 3340974252743524, 3125397457087333, 8010549689039719, 5918282832042862, 8561516016778095, 7736882353171315, 2078460270025590, 9430574789596024, 3238229810297729, 3999331922264962, 6400102930973570, 7239424032193412, 6388959096068998, 4157980693234568, 9532228141038472, 4690759158535050, 1713761471587217, 3297156822354843, 3817731837557664, 9232624030914708, 8108798437651256, 6495847936021430, 2095640259001271, 7578127974417334, 7716741324008377, 5458162124475323, 2620704021218241, 4401901448192965, 5080999416077253, 5247358861329350, 8736638781823948, 9336370388304846, 1930721677192144, 5449610971108305, 6216751190381521, 6423417855132625, 2954456265698260, 6732485122573267, 2692109715166166, 2672797853275095, 9644781126679504, 5609767247461337, 9621317412072412, 6962185392737245, 8239191573771235, 2035931394067428, 7142411144219620, 6244656436085734, 8197260029891556, 4186963117247464, 9271294569681900, 1221421251374063, 2440730617592819, 2689382042733559, 3736320383919103, 1562104682001408, 1261411767321605, 2216132730528773, 4289208456528903, 6480602940038149, 7246108290515977, 3457862814915595, 7640392875963406, 5739635764702223, 7781508495272974, 5948940271342611, 6214915371897876, 6286633870767123, 6521271718368276, 2260531719298071, 1716846938844184, 7785144321913880, 3801374660832282, 5000268333411354, 7506181666311196, 2267974573364254, 9031216392913950, 9802875887295518, 1402909379316770, 1991581570861050, 5762108118035491, 6806677056951330, 2015751582522409, 3871110336988202, 3086742415895605, 4140252840629305, 6379790667727929, 7482288151831611, 2853112388344894, 2824840080919615, 4320721997102152, 4766210145946696, 5766495283121226, 8013107372772424, 9194498820553808, 2473526792975445, 5061349615705175, 7126435777387607, 1107936587129946, 4616880410668126, 4048301611162722, 3511407381857380, 7087720787493988, 7642492194434148, 3612614294719592, 4302633772248169, 2964226721442922, 7927809297669234, 4050952261377140, 2396988576748662, 9836548369808504, 4159662672178300, 3311276221301887, 3613345325704319, 1264384810841217, 7073490367448189, 8325153881531522, 3269417514626180, 2925559987432581, 8955392958618753, 1508274565891207, 6422651895848072, 9591503562024072, 8889611665372298, 1501541842357388, 5405790922747020, 1827724345844879, 7831664021861519, 1790418788918417, 4171614982554774, 8415836921156758, 1809105277432987, 7649237198931106, 5552770653002916, 5376655964161192, 8259854075192493, 2129295395003567, 2319535367187634, 4281752431928501, 8319213328536757, 8625961993043126, 4747886986038458, 5717872686412990, 6819174647393472, 9804141847583936, 7877869810457796, 3028140595406023, 8186338691607752, 7045277863044303, 6164143160904912, 3198356899091665, 4663577652761810, 9264972320343248, 7253140926151893, 8864950135729370, 4217808221875420, 1210872963953886, 2639660431498464, 7711805422759137, 8221913653327075, 3787622376078564, 5013753958362344, 5290774753899753, 9711468735134956, 4516569913607412, 1459700728665333, 7862780183667956, 9757152469896436, 2318279413327098, 2941992413383931, 3598888231646460, 3658664738766077, 4141302078555386, 4270238553541882, 6295994752468225, 8290434690016513, 5073807444974852, 2020458328196357, 6667627884219652, 5798102379533575, 1985465879991560, 7356547139163401, 7429421121062150, 7787919251739915, 1468686791689484, 8185822588605701, 4639173013775632, 5836753091038481, 7528857656894738, 3846448423306515, 3199929867863316, 4003356110638356, 7745651081413913, 3046519985237274, 8334770465025305, 5308904973935901, 6310725288144157, 4341436577635619, 9683778679967012, 3091243789501733, 5494958749848869, 7470859729993000, 1077622576192810, 9657365357231404, 7623592082548014, 6863464532297009, 7115509751643442, 6120484619552052, 3877689042636086, 2006318724037943, 3862898177506617, 2409669868254522, 2377857415001409, 4749889059323202, 5389746962267460, 8338845492364614, 3917492344376650, 5468123853913421, 9304374049217870, 4672118413151569, 7553474181965140, 8414741953111383, 1003715054175576, 3616329710798175, 9854872265114976, 6873200773836131, 9837774113787236, 3002135240381800, 9587972953044328, 5320791639135601, 2600687426901365, 6938265066782069, 6661995519399289, 8595793418524025, 1808965499397505, 4333830558305665, 6266705123601799, 6215912685151625, 6714811165769097, 7687658687382923, 6935346241885581, 5166438433672591, 1742293159722384, 9698400826549648, 2053649899928978, 2143299125896595, 9851955447362962, 4296246438604183, 6404482075284890, 5098511582643613, 9383760568579492, 8089806479424934, 4936380626945447, 8516934048339373, 5659288348108211, 2011225415908789, 6615733467016631, 7688291064116663, 9635686158177722, 2082491371163072, 3283780398702017, 1126571863414211, 3924829195486659, 4531548899489219, 2246920751887814, 5993120257934794, 2805299759365579, 1916247437596108, 5453745952738769, 3972528153355730, 6945217470076371, 7124999548487126, 8246842555809242, 9981251982982618, 9678367852258782, 2303171755251168, 8550977182819809, 7598247814165987, 9309465343004132, 5684510881502693, 2817353387367914, 1428403246999020, 5700924993541613, 2159761840702960, 3966556370103795, 4539200319153652, 7802709536607734, 4439982514963965, 4232565960027650, 1165413984579076, 9245298182395396, 8035759955465736, 4309494627223049, 7961700524971531, 6162758085256721, 4222257296924178, 2921263077776915, 4027126453841428, 5705142797618710, 2241726319111705, 2737987462573599, 9867492085978660, 3222599265756712, 9246395935309352, 2932839780724266, 1284450389976622, 6640710366086702, 4234505022072368, 7081424943873587, 5864242444135997, 9816797152028230, 3126713197438541, 3506311286355533, 1691402616456783, 1089479586475600, 2340521163476561, 3252422521439823, 1167475218806361, 7636362072432217, 6703587278204507, 4101798991332958, 4933910876032607, 8534199181434464, 3714863719798369, 4744743520431714, 3539204020033123, 8930627115152996, 4664185471467111, 7675526470884968, 3662455495779947, 6967355131453039, 1540571164649072, 3367848759678576, 3197366545608306, 9946917923319410, 7804216189681274, 1654474816562824, 5059189477453448, 7334481986999944, 8707235956924043, 3458282373086860, 1627133998042765, 2018846126249619, 9074496478473876, 5667345463662229, 9397534897596052, 3410360221015707, 5828448317363869, 1388343943378591, 4339853010378399, 8011569676936865, 3000865854914214, 3424173121597094, 1128536627506856, 4755187966465702, 7285338329726630, 8774466977695404, 9449500138776236, 7757977389711023, 4901899458549426, 3141741552082614, 7461673920587452, 7916370876622524, 9426548622589628, 6488510088679104, 3805530354015938, 3569775399128772, 9784236961027780, 5178912386959057, 5285935774074579, 9101701756819166, 1489635379898079, 6933786855515871, 5961248174929633, 4546345297067747, 3481671427731175, 4982870431606503, 5179741011136232, 9254188841656040, 9311226148341480, 9986135779184360, 5666241810779885, 7769265222348528, 8137811493121777, 1615829389733620, 5960629082676983, 4832198644199161, 2218504565462778, 5721265318199034, 5654948589485821, 7493277950441213, 3436245968389889, 5132270021326600, 8088335924434698, 5790900556949261, 4893545347026703, 6225921585766163, 3645572182845204, 4114566748837655, 5133871386101527, 5929569085404951, 5022294487953183, 4251786088548131, 7304413635737386, 1655819415123756, 9613939883867952, 5533884728934194, 4441810945214262, 6126515498577720, 4798124560973632, 4235114373687107, 4769264372531012, 5697145338404683, 1571950024675150, 6804279646781269, 1155726765596507, 7765780560269150, 6354366482171744, 2420143847731044, 2324277636337514, 1701518284353388, 8449977471766380, 9552288592156524, 2206106834866031, 8567390858674031, 7898918688943986, 3317657129455475, 5213801443993459, 9548629685194612, 2548694161694583, 7314396346539895, 1997929794676601, 4718224894234489, 4722888325136251, 9474570595942268, 7200349472931713, 9310902645401474, 9460261785948036, 9528285469413252, 9818730572429186, 2647136239925128, 2596862660671371, 4666866933569419, 3413946891046800, 8526940090693523, 2635734164793243, 5537697283153819, 3153643853817761, 8886885444601763, 8236301184896933, 2557172553412520, 1134742235676586, 1464551767416747, 6319530478989228, 1013870087888817, 1191702776174515, 2625359414931381, 5356282040111031, 4662285575534520, 4795379267919800, 4780225344761787, 8894346622126012, 3954565279762367, 9021391556427712, 5664450038929347, 7325119954636745, 7186723485093836, 3489836158322637, 2617818479902672, 5046524059181009, 7996607928053715, 2407349078067156, 5016712448423893, 6239589776969686, 8295403590944723, 9182297359077336, 5759828179208154, 5891245628237787, 7869254138083290, 8997872842487770, 3709941163857886, 4761149767499742, 7011626867998686, 5780268975765473, 8746120498341854, 5171595359553508, 6499168840378342, 1250832548098023, 9961694231875562, 9722420012449776, 5808568142475251, 4760865394229236, 7962835535781875, 6702862097534967, 7596392338837497, 3765967291056122]\n"
     ]
    }
   ],
   "source": [
    "print(good_list)"
   ]
  },
  {
   "cell_type": "markdown",
   "metadata": {},
   "source": [
    "In total there are 862 customers have never break the card limit.\n",
    "Also, there is a quicker way in Python to find the list in A but not in B. That is covert A and B into set first, minus A by B, then covert it back to list."
   ]
  },
  {
   "cell_type": "markdown",
   "metadata": {},
   "source": [
    "# Question 2"
   ]
  },
  {
   "cell_type": "markdown",
   "metadata": {},
   "source": [
    "On the other hand, she wants you to implement an algorithm that as soon as a user goes above her monthly limit, it triggers an alert so that the user can be notified about that.We assume here that at the beginning of the new month, user total money spent gets reset to zero (i.e. she pays the card fully at the end of each month). Build a function that for each day, returns a list of users who went above their credit card monthly limit on that day."
   ]
  },
  {
   "cell_type": "markdown",
   "metadata": {},
   "source": [
    "Here I assume we only need the first transaction that break the limit for a given customer in a given month"
   ]
  },
  {
   "cell_type": "markdown",
   "metadata": {},
   "source": [
    "General Steps:\n",
    "1. Sort the data frame\n",
    "2. calculate the cumsum with the appropriate group by\n",
    "3. find the cumsum that higher than limit\n",
    "4. find the minimum date of breach by each id each month\n"
   ]
  },
  {
   "cell_type": "code",
   "execution_count": 85,
   "metadata": {
    "ExecuteTime": {
     "end_time": "2021-03-30T20:07:47.524801Z",
     "start_time": "2021-03-30T20:07:47.292770Z"
    }
   },
   "outputs": [
    {
     "data": {
      "text/html": [
       "<div>\n",
       "<style scoped>\n",
       "    .dataframe tbody tr th:only-of-type {\n",
       "        vertical-align: middle;\n",
       "    }\n",
       "\n",
       "    .dataframe tbody tr th {\n",
       "        vertical-align: top;\n",
       "    }\n",
       "\n",
       "    .dataframe thead th {\n",
       "        text-align: right;\n",
       "    }\n",
       "</style>\n",
       "<table border=\"1\" class=\"dataframe\">\n",
       "  <thead>\n",
       "    <tr style=\"text-align: right;\">\n",
       "      <th></th>\n",
       "      <th>credit_card</th>\n",
       "      <th>trans_month</th>\n",
       "      <th>date</th>\n",
       "      <th>transaction_dollar_amount</th>\n",
       "    </tr>\n",
       "  </thead>\n",
       "  <tbody>\n",
       "    <tr>\n",
       "      <th>0</th>\n",
       "      <td>1003715054175576</td>\n",
       "      <td>7</td>\n",
       "      <td>2015-07-31 20:03:05</td>\n",
       "      <td>45.52</td>\n",
       "    </tr>\n",
       "    <tr>\n",
       "      <th>1</th>\n",
       "      <td>1003715054175576</td>\n",
       "      <td>7</td>\n",
       "      <td>2015-07-31 20:25:28</td>\n",
       "      <td>96.10</td>\n",
       "    </tr>\n",
       "    <tr>\n",
       "      <th>2</th>\n",
       "      <td>1003715054175576</td>\n",
       "      <td>7</td>\n",
       "      <td>2015-07-31 23:09:32</td>\n",
       "      <td>20.94</td>\n",
       "    </tr>\n",
       "    <tr>\n",
       "      <th>3</th>\n",
       "      <td>1003715054175576</td>\n",
       "      <td>8</td>\n",
       "      <td>2015-08-01 10:48:03</td>\n",
       "      <td>51.27</td>\n",
       "    </tr>\n",
       "    <tr>\n",
       "      <th>4</th>\n",
       "      <td>1003715054175576</td>\n",
       "      <td>8</td>\n",
       "      <td>2015-08-01 17:43:43</td>\n",
       "      <td>127.99</td>\n",
       "    </tr>\n",
       "    <tr>\n",
       "      <th>5</th>\n",
       "      <td>1003715054175576</td>\n",
       "      <td>8</td>\n",
       "      <td>2015-08-01 17:44:19</td>\n",
       "      <td>96.97</td>\n",
       "    </tr>\n",
       "    <tr>\n",
       "      <th>6</th>\n",
       "      <td>1003715054175576</td>\n",
       "      <td>8</td>\n",
       "      <td>2015-08-01 19:10:09</td>\n",
       "      <td>97.35</td>\n",
       "    </tr>\n",
       "    <tr>\n",
       "      <th>7</th>\n",
       "      <td>1003715054175576</td>\n",
       "      <td>8</td>\n",
       "      <td>2015-08-02 19:39:29</td>\n",
       "      <td>131.43</td>\n",
       "    </tr>\n",
       "    <tr>\n",
       "      <th>8</th>\n",
       "      <td>1003715054175576</td>\n",
       "      <td>8</td>\n",
       "      <td>2015-08-02 22:40:59</td>\n",
       "      <td>85.74</td>\n",
       "    </tr>\n",
       "    <tr>\n",
       "      <th>9</th>\n",
       "      <td>1003715054175576</td>\n",
       "      <td>8</td>\n",
       "      <td>2015-08-03 00:27:43</td>\n",
       "      <td>80.67</td>\n",
       "    </tr>\n",
       "  </tbody>\n",
       "</table>\n",
       "</div>"
      ],
      "text/plain": [
       "        credit_card  trans_month                date  \\\n",
       "0  1003715054175576            7 2015-07-31 20:03:05   \n",
       "1  1003715054175576            7 2015-07-31 20:25:28   \n",
       "2  1003715054175576            7 2015-07-31 23:09:32   \n",
       "3  1003715054175576            8 2015-08-01 10:48:03   \n",
       "4  1003715054175576            8 2015-08-01 17:43:43   \n",
       "5  1003715054175576            8 2015-08-01 17:44:19   \n",
       "6  1003715054175576            8 2015-08-01 19:10:09   \n",
       "7  1003715054175576            8 2015-08-02 19:39:29   \n",
       "8  1003715054175576            8 2015-08-02 22:40:59   \n",
       "9  1003715054175576            8 2015-08-03 00:27:43   \n",
       "\n",
       "   transaction_dollar_amount  \n",
       "0                      45.52  \n",
       "1                      96.10  \n",
       "2                      20.94  \n",
       "3                      51.27  \n",
       "4                     127.99  \n",
       "5                      96.97  \n",
       "6                      97.35  \n",
       "7                     131.43  \n",
       "8                      85.74  \n",
       "9                      80.67  "
      ]
     },
     "execution_count": 85,
     "metadata": {},
     "output_type": "execute_result"
    }
   ],
   "source": [
    "sort_data = data[['credit_card','trans_month','date','transaction_dollar_amount']].sort_values(['credit_card','trans_month','date']).reset_index(drop=True)\n",
    "sort_data.head(10)"
   ]
  },
  {
   "cell_type": "code",
   "execution_count": 86,
   "metadata": {
    "ExecuteTime": {
     "end_time": "2021-03-30T20:07:52.323413Z",
     "start_time": "2021-03-30T20:07:52.266409Z"
    }
   },
   "outputs": [
    {
     "data": {
      "text/html": [
       "<div>\n",
       "<style scoped>\n",
       "    .dataframe tbody tr th:only-of-type {\n",
       "        vertical-align: middle;\n",
       "    }\n",
       "\n",
       "    .dataframe tbody tr th {\n",
       "        vertical-align: top;\n",
       "    }\n",
       "\n",
       "    .dataframe thead th {\n",
       "        text-align: right;\n",
       "    }\n",
       "</style>\n",
       "<table border=\"1\" class=\"dataframe\">\n",
       "  <thead>\n",
       "    <tr style=\"text-align: right;\">\n",
       "      <th></th>\n",
       "      <th>trans_cumsum</th>\n",
       "    </tr>\n",
       "  </thead>\n",
       "  <tbody>\n",
       "    <tr>\n",
       "      <th>0</th>\n",
       "      <td>45.52</td>\n",
       "    </tr>\n",
       "    <tr>\n",
       "      <th>1</th>\n",
       "      <td>141.62</td>\n",
       "    </tr>\n",
       "    <tr>\n",
       "      <th>2</th>\n",
       "      <td>162.56</td>\n",
       "    </tr>\n",
       "    <tr>\n",
       "      <th>3</th>\n",
       "      <td>51.27</td>\n",
       "    </tr>\n",
       "    <tr>\n",
       "      <th>4</th>\n",
       "      <td>179.26</td>\n",
       "    </tr>\n",
       "    <tr>\n",
       "      <th>5</th>\n",
       "      <td>276.23</td>\n",
       "    </tr>\n",
       "    <tr>\n",
       "      <th>6</th>\n",
       "      <td>373.58</td>\n",
       "    </tr>\n",
       "    <tr>\n",
       "      <th>7</th>\n",
       "      <td>505.01</td>\n",
       "    </tr>\n",
       "    <tr>\n",
       "      <th>8</th>\n",
       "      <td>590.75</td>\n",
       "    </tr>\n",
       "    <tr>\n",
       "      <th>9</th>\n",
       "      <td>671.42</td>\n",
       "    </tr>\n",
       "  </tbody>\n",
       "</table>\n",
       "</div>"
      ],
      "text/plain": [
       "   trans_cumsum\n",
       "0         45.52\n",
       "1        141.62\n",
       "2        162.56\n",
       "3         51.27\n",
       "4        179.26\n",
       "5        276.23\n",
       "6        373.58\n",
       "7        505.01\n",
       "8        590.75\n",
       "9        671.42"
      ]
     },
     "execution_count": 86,
     "metadata": {},
     "output_type": "execute_result"
    }
   ],
   "source": [
    "cumsum_data = pd.DataFrame(sort_data.groupby(['credit_card','trans_month'])['transaction_dollar_amount'].cumsum())\n",
    "cumsum_data.columns = ['trans_cumsum']\n",
    "cumsum_data.head(10)"
   ]
  },
  {
   "cell_type": "code",
   "execution_count": 87,
   "metadata": {
    "ExecuteTime": {
     "end_time": "2021-03-30T20:07:54.807117Z",
     "start_time": "2021-03-30T20:07:54.786104Z"
    }
   },
   "outputs": [
    {
     "data": {
      "text/html": [
       "<div>\n",
       "<style scoped>\n",
       "    .dataframe tbody tr th:only-of-type {\n",
       "        vertical-align: middle;\n",
       "    }\n",
       "\n",
       "    .dataframe tbody tr th {\n",
       "        vertical-align: top;\n",
       "    }\n",
       "\n",
       "    .dataframe thead th {\n",
       "        text-align: right;\n",
       "    }\n",
       "</style>\n",
       "<table border=\"1\" class=\"dataframe\">\n",
       "  <thead>\n",
       "    <tr style=\"text-align: right;\">\n",
       "      <th></th>\n",
       "      <th>credit_card</th>\n",
       "      <th>trans_month</th>\n",
       "      <th>date</th>\n",
       "      <th>transaction_dollar_amount</th>\n",
       "      <th>trans_cumsum</th>\n",
       "    </tr>\n",
       "  </thead>\n",
       "  <tbody>\n",
       "    <tr>\n",
       "      <th>0</th>\n",
       "      <td>1003715054175576</td>\n",
       "      <td>7</td>\n",
       "      <td>2015-07-31 20:03:05</td>\n",
       "      <td>45.52</td>\n",
       "      <td>45.52</td>\n",
       "    </tr>\n",
       "    <tr>\n",
       "      <th>1</th>\n",
       "      <td>1003715054175576</td>\n",
       "      <td>7</td>\n",
       "      <td>2015-07-31 20:25:28</td>\n",
       "      <td>96.10</td>\n",
       "      <td>141.62</td>\n",
       "    </tr>\n",
       "    <tr>\n",
       "      <th>2</th>\n",
       "      <td>1003715054175576</td>\n",
       "      <td>7</td>\n",
       "      <td>2015-07-31 23:09:32</td>\n",
       "      <td>20.94</td>\n",
       "      <td>162.56</td>\n",
       "    </tr>\n",
       "    <tr>\n",
       "      <th>3</th>\n",
       "      <td>1003715054175576</td>\n",
       "      <td>8</td>\n",
       "      <td>2015-08-01 10:48:03</td>\n",
       "      <td>51.27</td>\n",
       "      <td>51.27</td>\n",
       "    </tr>\n",
       "    <tr>\n",
       "      <th>4</th>\n",
       "      <td>1003715054175576</td>\n",
       "      <td>8</td>\n",
       "      <td>2015-08-01 17:43:43</td>\n",
       "      <td>127.99</td>\n",
       "      <td>179.26</td>\n",
       "    </tr>\n",
       "    <tr>\n",
       "      <th>5</th>\n",
       "      <td>1003715054175576</td>\n",
       "      <td>8</td>\n",
       "      <td>2015-08-01 17:44:19</td>\n",
       "      <td>96.97</td>\n",
       "      <td>276.23</td>\n",
       "    </tr>\n",
       "    <tr>\n",
       "      <th>6</th>\n",
       "      <td>1003715054175576</td>\n",
       "      <td>8</td>\n",
       "      <td>2015-08-01 19:10:09</td>\n",
       "      <td>97.35</td>\n",
       "      <td>373.58</td>\n",
       "    </tr>\n",
       "    <tr>\n",
       "      <th>7</th>\n",
       "      <td>1003715054175576</td>\n",
       "      <td>8</td>\n",
       "      <td>2015-08-02 19:39:29</td>\n",
       "      <td>131.43</td>\n",
       "      <td>505.01</td>\n",
       "    </tr>\n",
       "    <tr>\n",
       "      <th>8</th>\n",
       "      <td>1003715054175576</td>\n",
       "      <td>8</td>\n",
       "      <td>2015-08-02 22:40:59</td>\n",
       "      <td>85.74</td>\n",
       "      <td>590.75</td>\n",
       "    </tr>\n",
       "    <tr>\n",
       "      <th>9</th>\n",
       "      <td>1003715054175576</td>\n",
       "      <td>8</td>\n",
       "      <td>2015-08-03 00:27:43</td>\n",
       "      <td>80.67</td>\n",
       "      <td>671.42</td>\n",
       "    </tr>\n",
       "  </tbody>\n",
       "</table>\n",
       "</div>"
      ],
      "text/plain": [
       "        credit_card  trans_month                date  \\\n",
       "0  1003715054175576            7 2015-07-31 20:03:05   \n",
       "1  1003715054175576            7 2015-07-31 20:25:28   \n",
       "2  1003715054175576            7 2015-07-31 23:09:32   \n",
       "3  1003715054175576            8 2015-08-01 10:48:03   \n",
       "4  1003715054175576            8 2015-08-01 17:43:43   \n",
       "5  1003715054175576            8 2015-08-01 17:44:19   \n",
       "6  1003715054175576            8 2015-08-01 19:10:09   \n",
       "7  1003715054175576            8 2015-08-02 19:39:29   \n",
       "8  1003715054175576            8 2015-08-02 22:40:59   \n",
       "9  1003715054175576            8 2015-08-03 00:27:43   \n",
       "\n",
       "   transaction_dollar_amount  trans_cumsum  \n",
       "0                      45.52         45.52  \n",
       "1                      96.10        141.62  \n",
       "2                      20.94        162.56  \n",
       "3                      51.27         51.27  \n",
       "4                     127.99        179.26  \n",
       "5                      96.97        276.23  \n",
       "6                      97.35        373.58  \n",
       "7                     131.43        505.01  \n",
       "8                      85.74        590.75  \n",
       "9                      80.67        671.42  "
      ]
     },
     "execution_count": 87,
     "metadata": {},
     "output_type": "execute_result"
    }
   ],
   "source": [
    "sort_data = pd.concat([sort_data,cumsum_data],axis = 1)\n",
    "sort_data.head(10)"
   ]
  },
  {
   "cell_type": "code",
   "execution_count": 88,
   "metadata": {
    "ExecuteTime": {
     "end_time": "2021-03-30T20:07:57.094031Z",
     "start_time": "2021-03-30T20:07:57.007027Z"
    }
   },
   "outputs": [
    {
     "data": {
      "text/html": [
       "<div>\n",
       "<style scoped>\n",
       "    .dataframe tbody tr th:only-of-type {\n",
       "        vertical-align: middle;\n",
       "    }\n",
       "\n",
       "    .dataframe tbody tr th {\n",
       "        vertical-align: top;\n",
       "    }\n",
       "\n",
       "    .dataframe thead th {\n",
       "        text-align: right;\n",
       "    }\n",
       "</style>\n",
       "<table border=\"1\" class=\"dataframe\">\n",
       "  <thead>\n",
       "    <tr style=\"text-align: right;\">\n",
       "      <th></th>\n",
       "      <th>credit_card</th>\n",
       "      <th>trans_month</th>\n",
       "      <th>date</th>\n",
       "      <th>transaction_dollar_amount</th>\n",
       "      <th>trans_cumsum</th>\n",
       "      <th>credit_card_limit</th>\n",
       "    </tr>\n",
       "  </thead>\n",
       "  <tbody>\n",
       "    <tr>\n",
       "      <th>0</th>\n",
       "      <td>1003715054175576</td>\n",
       "      <td>7</td>\n",
       "      <td>2015-07-31 20:03:05</td>\n",
       "      <td>45.52</td>\n",
       "      <td>45.52</td>\n",
       "      <td>20000</td>\n",
       "    </tr>\n",
       "    <tr>\n",
       "      <th>1</th>\n",
       "      <td>1003715054175576</td>\n",
       "      <td>7</td>\n",
       "      <td>2015-07-31 20:25:28</td>\n",
       "      <td>96.10</td>\n",
       "      <td>141.62</td>\n",
       "      <td>20000</td>\n",
       "    </tr>\n",
       "    <tr>\n",
       "      <th>2</th>\n",
       "      <td>1003715054175576</td>\n",
       "      <td>7</td>\n",
       "      <td>2015-07-31 23:09:32</td>\n",
       "      <td>20.94</td>\n",
       "      <td>162.56</td>\n",
       "      <td>20000</td>\n",
       "    </tr>\n",
       "    <tr>\n",
       "      <th>3</th>\n",
       "      <td>1003715054175576</td>\n",
       "      <td>8</td>\n",
       "      <td>2015-08-01 10:48:03</td>\n",
       "      <td>51.27</td>\n",
       "      <td>51.27</td>\n",
       "      <td>20000</td>\n",
       "    </tr>\n",
       "    <tr>\n",
       "      <th>4</th>\n",
       "      <td>1003715054175576</td>\n",
       "      <td>8</td>\n",
       "      <td>2015-08-01 17:43:43</td>\n",
       "      <td>127.99</td>\n",
       "      <td>179.26</td>\n",
       "      <td>20000</td>\n",
       "    </tr>\n",
       "  </tbody>\n",
       "</table>\n",
       "</div>"
      ],
      "text/plain": [
       "        credit_card  trans_month                date  \\\n",
       "0  1003715054175576            7 2015-07-31 20:03:05   \n",
       "1  1003715054175576            7 2015-07-31 20:25:28   \n",
       "2  1003715054175576            7 2015-07-31 23:09:32   \n",
       "3  1003715054175576            8 2015-08-01 10:48:03   \n",
       "4  1003715054175576            8 2015-08-01 17:43:43   \n",
       "\n",
       "   transaction_dollar_amount  trans_cumsum  credit_card_limit  \n",
       "0                      45.52         45.52              20000  \n",
       "1                      96.10        141.62              20000  \n",
       "2                      20.94        162.56              20000  \n",
       "3                      51.27         51.27              20000  \n",
       "4                     127.99        179.26              20000  "
      ]
     },
     "execution_count": 88,
     "metadata": {},
     "output_type": "execute_result"
    }
   ],
   "source": [
    "sort_data = pd.merge(left = sort_data, right = info[['credit_card','credit_card_limit']], on = 'credit_card', how='left')\n",
    "sort_data.head()"
   ]
  },
  {
   "cell_type": "code",
   "execution_count": 89,
   "metadata": {
    "ExecuteTime": {
     "end_time": "2021-03-30T20:15:24.253986Z",
     "start_time": "2021-03-30T20:15:24.217985Z"
    }
   },
   "outputs": [
    {
     "data": {
      "text/html": [
       "<div>\n",
       "<style scoped>\n",
       "    .dataframe tbody tr th:only-of-type {\n",
       "        vertical-align: middle;\n",
       "    }\n",
       "\n",
       "    .dataframe tbody tr th {\n",
       "        vertical-align: top;\n",
       "    }\n",
       "\n",
       "    .dataframe thead th {\n",
       "        text-align: right;\n",
       "    }\n",
       "</style>\n",
       "<table border=\"1\" class=\"dataframe\">\n",
       "  <thead>\n",
       "    <tr style=\"text-align: right;\">\n",
       "      <th></th>\n",
       "      <th>credit_card</th>\n",
       "      <th>trans_month</th>\n",
       "      <th>date</th>\n",
       "      <th>transaction_dollar_amount</th>\n",
       "      <th>trans_cumsum</th>\n",
       "      <th>credit_card_limit</th>\n",
       "    </tr>\n",
       "  </thead>\n",
       "  <tbody>\n",
       "    <tr>\n",
       "      <th>1976</th>\n",
       "      <td>1106824181265726</td>\n",
       "      <td>8</td>\n",
       "      <td>2015-08-28 16:48:36</td>\n",
       "      <td>47.54</td>\n",
       "      <td>6037.25</td>\n",
       "      <td>6000</td>\n",
       "    </tr>\n",
       "    <tr>\n",
       "      <th>1977</th>\n",
       "      <td>1106824181265726</td>\n",
       "      <td>8</td>\n",
       "      <td>2015-08-28 20:41:36</td>\n",
       "      <td>57.09</td>\n",
       "      <td>6094.34</td>\n",
       "      <td>6000</td>\n",
       "    </tr>\n",
       "    <tr>\n",
       "      <th>1978</th>\n",
       "      <td>1106824181265726</td>\n",
       "      <td>8</td>\n",
       "      <td>2015-08-28 20:41:46</td>\n",
       "      <td>179.72</td>\n",
       "      <td>6274.06</td>\n",
       "      <td>6000</td>\n",
       "    </tr>\n",
       "    <tr>\n",
       "      <th>1979</th>\n",
       "      <td>1106824181265726</td>\n",
       "      <td>8</td>\n",
       "      <td>2015-08-29 22:27:41</td>\n",
       "      <td>74.27</td>\n",
       "      <td>6348.33</td>\n",
       "      <td>6000</td>\n",
       "    </tr>\n",
       "    <tr>\n",
       "      <th>1980</th>\n",
       "      <td>1106824181265726</td>\n",
       "      <td>8</td>\n",
       "      <td>2015-08-30 04:09:29</td>\n",
       "      <td>140.17</td>\n",
       "      <td>6488.50</td>\n",
       "      <td>6000</td>\n",
       "    </tr>\n",
       "  </tbody>\n",
       "</table>\n",
       "</div>"
      ],
      "text/plain": [
       "           credit_card  trans_month                date  \\\n",
       "1976  1106824181265726            8 2015-08-28 16:48:36   \n",
       "1977  1106824181265726            8 2015-08-28 20:41:36   \n",
       "1978  1106824181265726            8 2015-08-28 20:41:46   \n",
       "1979  1106824181265726            8 2015-08-29 22:27:41   \n",
       "1980  1106824181265726            8 2015-08-30 04:09:29   \n",
       "\n",
       "      transaction_dollar_amount  trans_cumsum  credit_card_limit  \n",
       "1976                      47.54       6037.25               6000  \n",
       "1977                      57.09       6094.34               6000  \n",
       "1978                     179.72       6274.06               6000  \n",
       "1979                      74.27       6348.33               6000  \n",
       "1980                     140.17       6488.50               6000  "
      ]
     },
     "execution_count": 89,
     "metadata": {},
     "output_type": "execute_result"
    }
   ],
   "source": [
    "alert_data = sort_data[sort_data['trans_cumsum']>sort_data['credit_card_limit']]\n",
    "alert_data.head()"
   ]
  },
  {
   "cell_type": "code",
   "execution_count": 102,
   "metadata": {
    "ExecuteTime": {
     "end_time": "2021-03-30T20:42:12.844825Z",
     "start_time": "2021-03-30T20:42:12.815837Z"
    }
   },
   "outputs": [
    {
     "data": {
      "text/html": [
       "<div>\n",
       "<style scoped>\n",
       "    .dataframe tbody tr th:only-of-type {\n",
       "        vertical-align: middle;\n",
       "    }\n",
       "\n",
       "    .dataframe tbody tr th {\n",
       "        vertical-align: top;\n",
       "    }\n",
       "\n",
       "    .dataframe thead th {\n",
       "        text-align: right;\n",
       "    }\n",
       "</style>\n",
       "<table border=\"1\" class=\"dataframe\">\n",
       "  <thead>\n",
       "    <tr style=\"text-align: right;\">\n",
       "      <th></th>\n",
       "      <th>credit_card</th>\n",
       "      <th>trans_month</th>\n",
       "      <th>date</th>\n",
       "      <th>trans_day</th>\n",
       "    </tr>\n",
       "  </thead>\n",
       "  <tbody>\n",
       "    <tr>\n",
       "      <th>0</th>\n",
       "      <td>1106824181265726</td>\n",
       "      <td>8</td>\n",
       "      <td>2015-08-28 16:48:36</td>\n",
       "      <td>28</td>\n",
       "    </tr>\n",
       "    <tr>\n",
       "      <th>1</th>\n",
       "      <td>1106824181265726</td>\n",
       "      <td>9</td>\n",
       "      <td>2015-09-22 21:47:52</td>\n",
       "      <td>22</td>\n",
       "    </tr>\n",
       "    <tr>\n",
       "      <th>2</th>\n",
       "      <td>1106824181265726</td>\n",
       "      <td>10</td>\n",
       "      <td>2015-10-27 21:25:35</td>\n",
       "      <td>27</td>\n",
       "    </tr>\n",
       "    <tr>\n",
       "      <th>3</th>\n",
       "      <td>1175962294549313</td>\n",
       "      <td>8</td>\n",
       "      <td>2015-08-28 19:54:28</td>\n",
       "      <td>28</td>\n",
       "    </tr>\n",
       "    <tr>\n",
       "      <th>4</th>\n",
       "      <td>1175962294549313</td>\n",
       "      <td>9</td>\n",
       "      <td>2015-09-30 19:02:03</td>\n",
       "      <td>30</td>\n",
       "    </tr>\n",
       "  </tbody>\n",
       "</table>\n",
       "</div>"
      ],
      "text/plain": [
       "        credit_card  trans_month                date  trans_day\n",
       "0  1106824181265726            8 2015-08-28 16:48:36         28\n",
       "1  1106824181265726            9 2015-09-22 21:47:52         22\n",
       "2  1106824181265726           10 2015-10-27 21:25:35         27\n",
       "3  1175962294549313            8 2015-08-28 19:54:28         28\n",
       "4  1175962294549313            9 2015-09-30 19:02:03         30"
      ]
     },
     "execution_count": 102,
     "metadata": {},
     "output_type": "execute_result"
    }
   ],
   "source": [
    "final_list = alert_data[['credit_card','trans_month','date']].groupby(['credit_card','trans_month']).min().reset_index()\n",
    "final_list['trans_day']=final_list['date'].apply(lambda x: x.day)\n",
    "final_list.head()"
   ]
  },
  {
   "cell_type": "code",
   "execution_count": 118,
   "metadata": {
    "ExecuteTime": {
     "end_time": "2021-03-30T20:48:16.662857Z",
     "start_time": "2021-03-30T20:48:16.654857Z"
    }
   },
   "outputs": [],
   "source": [
    "def black_list(df, month, day):\n",
    "    return df[(df['trans_month']==month) & (df['trans_day']==day)]['credit_card'].values"
   ]
  },
  {
   "cell_type": "code",
   "execution_count": 119,
   "metadata": {
    "ExecuteTime": {
     "end_time": "2021-03-30T20:48:17.358304Z",
     "start_time": "2021-03-30T20:48:17.350302Z"
    }
   },
   "outputs": [
    {
     "name": "stdout",
     "output_type": "stream",
     "text": [
      "[2505223645294729 6174559182308122 6766253113444560]\n"
     ]
    }
   ],
   "source": [
    "print(black_list(final_list, 9,16))"
   ]
  },
  {
   "cell_type": "markdown",
   "metadata": {},
   "source": [
    "# Question 3"
   ]
  },
  {
   "cell_type": "markdown",
   "metadata": {},
   "source": [
    "Finally, your boss is very concerned about frauds cause they are a huge cost for credit card companies. She wants you to implement an unsupervised algorithm that returns all transactions that seem unusual and are worth being investigated further."
   ]
  },
  {
   "cell_type": "markdown",
   "metadata": {},
   "source": [
    "Based on the info we have, there are two parameters we can use to detect the fraud:\n",
    "1. The amount of transaction too high compared to majority of the credit card owner's other majority transactions\n",
    "2. The transaction executed too far away from the credit card owner's home\n",
    "\n",
    "For the second point, since we dont have the long and lat info for home address, we can consider use the median of the transaction to proxy. Then calculate the euclidian distance between each transaction place to home. \n",
    "\n",
    "We will only focus on the first point in this study."
   ]
  },
  {
   "cell_type": "code",
   "execution_count": 139,
   "metadata": {
    "ExecuteTime": {
     "end_time": "2021-03-31T15:48:10.894815Z",
     "start_time": "2021-03-31T15:48:10.372746Z"
    }
   },
   "outputs": [],
   "source": [
    "def statistics_by_card(s):\n",
    "    ps = [25, 50, 75]\n",
    "    d = np.percentile(s,ps)\n",
    "    return pd.Series(d,index=['{}%'.format(p) for p in ps])\n",
    "\n",
    "tran_statistics = transaction.groupby('credit_card')['transaction_dollar_amount'].apply(statistics_by_card).unstack()"
   ]
  },
  {
   "cell_type": "code",
   "execution_count": 140,
   "metadata": {
    "ExecuteTime": {
     "end_time": "2021-03-31T15:48:11.667726Z",
     "start_time": "2021-03-31T15:48:11.645728Z"
    }
   },
   "outputs": [
    {
     "data": {
      "text/html": [
       "<div>\n",
       "<style scoped>\n",
       "    .dataframe tbody tr th:only-of-type {\n",
       "        vertical-align: middle;\n",
       "    }\n",
       "\n",
       "    .dataframe tbody tr th {\n",
       "        vertical-align: top;\n",
       "    }\n",
       "\n",
       "    .dataframe thead th {\n",
       "        text-align: right;\n",
       "    }\n",
       "</style>\n",
       "<table border=\"1\" class=\"dataframe\">\n",
       "  <thead>\n",
       "    <tr style=\"text-align: right;\">\n",
       "      <th></th>\n",
       "      <th>credit_card</th>\n",
       "      <th>25%</th>\n",
       "      <th>50%</th>\n",
       "      <th>75%</th>\n",
       "    </tr>\n",
       "  </thead>\n",
       "  <tbody>\n",
       "    <tr>\n",
       "      <th>0</th>\n",
       "      <td>1003715054175576</td>\n",
       "      <td>59.01</td>\n",
       "      <td>93.73</td>\n",
       "      <td>124.63</td>\n",
       "    </tr>\n",
       "    <tr>\n",
       "      <th>1</th>\n",
       "      <td>1013870087888817</td>\n",
       "      <td>58.09</td>\n",
       "      <td>87.67</td>\n",
       "      <td>128.02</td>\n",
       "    </tr>\n",
       "    <tr>\n",
       "      <th>2</th>\n",
       "      <td>1023820165155391</td>\n",
       "      <td>55.43</td>\n",
       "      <td>85.78</td>\n",
       "      <td>122.83</td>\n",
       "    </tr>\n",
       "    <tr>\n",
       "      <th>3</th>\n",
       "      <td>1073931538936472</td>\n",
       "      <td>108.08</td>\n",
       "      <td>147.19</td>\n",
       "      <td>194.83</td>\n",
       "    </tr>\n",
       "    <tr>\n",
       "      <th>4</th>\n",
       "      <td>1077622576192810</td>\n",
       "      <td>122.93</td>\n",
       "      <td>148.18</td>\n",
       "      <td>160.11</td>\n",
       "    </tr>\n",
       "  </tbody>\n",
       "</table>\n",
       "</div>"
      ],
      "text/plain": [
       "        credit_card     25%     50%     75%\n",
       "0  1003715054175576   59.01   93.73  124.63\n",
       "1  1013870087888817   58.09   87.67  128.02\n",
       "2  1023820165155391   55.43   85.78  122.83\n",
       "3  1073931538936472  108.08  147.19  194.83\n",
       "4  1077622576192810  122.93  148.18  160.11"
      ]
     },
     "execution_count": 140,
     "metadata": {},
     "output_type": "execute_result"
    }
   ],
   "source": [
    "tran_statistics = tran_statistics.reset_index()\n",
    "tran_statistics.head()"
   ]
  },
  {
   "cell_type": "code",
   "execution_count": 141,
   "metadata": {
    "ExecuteTime": {
     "end_time": "2021-03-31T15:49:30.027893Z",
     "start_time": "2021-03-31T15:49:29.969889Z"
    }
   },
   "outputs": [],
   "source": [
    "cov_data = pd.merge(left = transaction, right = info[['credit_card','credit_card_limit']], how='left',on='credit_card')"
   ]
  },
  {
   "cell_type": "code",
   "execution_count": 143,
   "metadata": {
    "ExecuteTime": {
     "end_time": "2021-03-31T15:50:32.494618Z",
     "start_time": "2021-03-31T15:50:32.415614Z"
    }
   },
   "outputs": [
    {
     "data": {
      "text/html": [
       "<div>\n",
       "<style scoped>\n",
       "    .dataframe tbody tr th:only-of-type {\n",
       "        vertical-align: middle;\n",
       "    }\n",
       "\n",
       "    .dataframe tbody tr th {\n",
       "        vertical-align: top;\n",
       "    }\n",
       "\n",
       "    .dataframe thead th {\n",
       "        text-align: right;\n",
       "    }\n",
       "</style>\n",
       "<table border=\"1\" class=\"dataframe\">\n",
       "  <thead>\n",
       "    <tr style=\"text-align: right;\">\n",
       "      <th></th>\n",
       "      <th>credit_card</th>\n",
       "      <th>date</th>\n",
       "      <th>transaction_dollar_amount</th>\n",
       "      <th>Long</th>\n",
       "      <th>Lat</th>\n",
       "      <th>credit_card_limit</th>\n",
       "      <th>25%</th>\n",
       "      <th>50%</th>\n",
       "      <th>75%</th>\n",
       "    </tr>\n",
       "  </thead>\n",
       "  <tbody>\n",
       "    <tr>\n",
       "      <th>0</th>\n",
       "      <td>1003715054175576</td>\n",
       "      <td>2015-09-11 00:32:40</td>\n",
       "      <td>43.78</td>\n",
       "      <td>-80.174132</td>\n",
       "      <td>40.267370</td>\n",
       "      <td>20000</td>\n",
       "      <td>59.01</td>\n",
       "      <td>93.73</td>\n",
       "      <td>124.63</td>\n",
       "    </tr>\n",
       "    <tr>\n",
       "      <th>1</th>\n",
       "      <td>1003715054175576</td>\n",
       "      <td>2015-10-24 22:23:08</td>\n",
       "      <td>103.15</td>\n",
       "      <td>-80.194240</td>\n",
       "      <td>40.180114</td>\n",
       "      <td>20000</td>\n",
       "      <td>59.01</td>\n",
       "      <td>93.73</td>\n",
       "      <td>124.63</td>\n",
       "    </tr>\n",
       "    <tr>\n",
       "      <th>2</th>\n",
       "      <td>1003715054175576</td>\n",
       "      <td>2015-10-26 18:19:36</td>\n",
       "      <td>48.55</td>\n",
       "      <td>-80.211033</td>\n",
       "      <td>40.313004</td>\n",
       "      <td>20000</td>\n",
       "      <td>59.01</td>\n",
       "      <td>93.73</td>\n",
       "      <td>124.63</td>\n",
       "    </tr>\n",
       "    <tr>\n",
       "      <th>3</th>\n",
       "      <td>1003715054175576</td>\n",
       "      <td>2015-10-22 19:41:10</td>\n",
       "      <td>136.18</td>\n",
       "      <td>-80.174138</td>\n",
       "      <td>40.290895</td>\n",
       "      <td>20000</td>\n",
       "      <td>59.01</td>\n",
       "      <td>93.73</td>\n",
       "      <td>124.63</td>\n",
       "    </tr>\n",
       "    <tr>\n",
       "      <th>4</th>\n",
       "      <td>1003715054175576</td>\n",
       "      <td>2015-10-26 20:08:22</td>\n",
       "      <td>71.82</td>\n",
       "      <td>-80.238720</td>\n",
       "      <td>40.166719</td>\n",
       "      <td>20000</td>\n",
       "      <td>59.01</td>\n",
       "      <td>93.73</td>\n",
       "      <td>124.63</td>\n",
       "    </tr>\n",
       "  </tbody>\n",
       "</table>\n",
       "</div>"
      ],
      "text/plain": [
       "        credit_card                date  transaction_dollar_amount       Long  \\\n",
       "0  1003715054175576 2015-09-11 00:32:40                      43.78 -80.174132   \n",
       "1  1003715054175576 2015-10-24 22:23:08                     103.15 -80.194240   \n",
       "2  1003715054175576 2015-10-26 18:19:36                      48.55 -80.211033   \n",
       "3  1003715054175576 2015-10-22 19:41:10                     136.18 -80.174138   \n",
       "4  1003715054175576 2015-10-26 20:08:22                      71.82 -80.238720   \n",
       "\n",
       "         Lat  credit_card_limit    25%    50%     75%  \n",
       "0  40.267370              20000  59.01  93.73  124.63  \n",
       "1  40.180114              20000  59.01  93.73  124.63  \n",
       "2  40.313004              20000  59.01  93.73  124.63  \n",
       "3  40.290895              20000  59.01  93.73  124.63  \n",
       "4  40.166719              20000  59.01  93.73  124.63  "
      ]
     },
     "execution_count": 143,
     "metadata": {},
     "output_type": "execute_result"
    }
   ],
   "source": [
    "cov_data = pd.merge(left=cov_data, right=tran_statistics, on='credit_card', how='left')\n",
    "cov_data.head()"
   ]
  },
  {
   "cell_type": "markdown",
   "metadata": {},
   "source": [
    "## 2D Chart with Premilinary Check"
   ]
  },
  {
   "cell_type": "code",
   "execution_count": 144,
   "metadata": {
    "ExecuteTime": {
     "end_time": "2021-03-31T15:57:43.371856Z",
     "start_time": "2021-03-31T15:57:43.350840Z"
    }
   },
   "outputs": [],
   "source": [
    "X = cov_data.loc[:,['transaction_dollar_amount','25%', '50%','75%','credit_card_limit']]"
   ]
  },
  {
   "cell_type": "code",
   "execution_count": 145,
   "metadata": {
    "ExecuteTime": {
     "end_time": "2021-03-31T15:57:50.550134Z",
     "start_time": "2021-03-31T15:57:50.432125Z"
    }
   },
   "outputs": [
    {
     "data": {
      "text/html": [
       "<div>\n",
       "<style scoped>\n",
       "    .dataframe tbody tr th:only-of-type {\n",
       "        vertical-align: middle;\n",
       "    }\n",
       "\n",
       "    .dataframe tbody tr th {\n",
       "        vertical-align: top;\n",
       "    }\n",
       "\n",
       "    .dataframe thead th {\n",
       "        text-align: right;\n",
       "    }\n",
       "</style>\n",
       "<table border=\"1\" class=\"dataframe\">\n",
       "  <thead>\n",
       "    <tr style=\"text-align: right;\">\n",
       "      <th></th>\n",
       "      <th>transaction_dollar_amount</th>\n",
       "      <th>25%</th>\n",
       "      <th>50%</th>\n",
       "      <th>75%</th>\n",
       "      <th>credit_card_limit</th>\n",
       "    </tr>\n",
       "  </thead>\n",
       "  <tbody>\n",
       "    <tr>\n",
       "      <th>count</th>\n",
       "      <td>294588.000000</td>\n",
       "      <td>294588.000000</td>\n",
       "      <td>294588.000000</td>\n",
       "      <td>294588.000000</td>\n",
       "      <td>294588.000000</td>\n",
       "    </tr>\n",
       "    <tr>\n",
       "      <th>mean</th>\n",
       "      <td>86.008036</td>\n",
       "      <td>43.265113</td>\n",
       "      <td>69.081697</td>\n",
       "      <td>97.282645</td>\n",
       "      <td>15502.053716</td>\n",
       "    </tr>\n",
       "    <tr>\n",
       "      <th>std</th>\n",
       "      <td>124.655954</td>\n",
       "      <td>21.471896</td>\n",
       "      <td>35.160028</td>\n",
       "      <td>49.919646</td>\n",
       "      <td>7956.291556</td>\n",
       "    </tr>\n",
       "    <tr>\n",
       "      <th>min</th>\n",
       "      <td>0.010000</td>\n",
       "      <td>6.150000</td>\n",
       "      <td>7.320000</td>\n",
       "      <td>9.120000</td>\n",
       "      <td>2000.000000</td>\n",
       "    </tr>\n",
       "    <tr>\n",
       "      <th>25%</th>\n",
       "      <td>29.970000</td>\n",
       "      <td>27.960000</td>\n",
       "      <td>43.590000</td>\n",
       "      <td>60.812500</td>\n",
       "      <td>10000.000000</td>\n",
       "    </tr>\n",
       "    <tr>\n",
       "      <th>50%</th>\n",
       "      <td>58.470000</td>\n",
       "      <td>40.595000</td>\n",
       "      <td>65.190000</td>\n",
       "      <td>91.832500</td>\n",
       "      <td>15000.000000</td>\n",
       "    </tr>\n",
       "    <tr>\n",
       "      <th>75%</th>\n",
       "      <td>100.400000</td>\n",
       "      <td>56.215000</td>\n",
       "      <td>89.710000</td>\n",
       "      <td>127.345000</td>\n",
       "      <td>20000.000000</td>\n",
       "    </tr>\n",
       "    <tr>\n",
       "      <th>max</th>\n",
       "      <td>999.970000</td>\n",
       "      <td>137.690000</td>\n",
       "      <td>222.290000</td>\n",
       "      <td>318.730000</td>\n",
       "      <td>55000.000000</td>\n",
       "    </tr>\n",
       "  </tbody>\n",
       "</table>\n",
       "</div>"
      ],
      "text/plain": [
       "       transaction_dollar_amount            25%            50%            75%  \\\n",
       "count              294588.000000  294588.000000  294588.000000  294588.000000   \n",
       "mean                   86.008036      43.265113      69.081697      97.282645   \n",
       "std                   124.655954      21.471896      35.160028      49.919646   \n",
       "min                     0.010000       6.150000       7.320000       9.120000   \n",
       "25%                    29.970000      27.960000      43.590000      60.812500   \n",
       "50%                    58.470000      40.595000      65.190000      91.832500   \n",
       "75%                   100.400000      56.215000      89.710000     127.345000   \n",
       "max                   999.970000     137.690000     222.290000     318.730000   \n",
       "\n",
       "       credit_card_limit  \n",
       "count      294588.000000  \n",
       "mean        15502.053716  \n",
       "std          7956.291556  \n",
       "min          2000.000000  \n",
       "25%         10000.000000  \n",
       "50%         15000.000000  \n",
       "75%         20000.000000  \n",
       "max         55000.000000  "
      ]
     },
     "execution_count": 145,
     "metadata": {},
     "output_type": "execute_result"
    }
   ],
   "source": [
    "X.describe()"
   ]
  },
  {
   "cell_type": "code",
   "execution_count": 149,
   "metadata": {
    "ExecuteTime": {
     "end_time": "2021-03-31T15:59:44.681428Z",
     "start_time": "2021-03-31T15:59:44.668444Z"
    }
   },
   "outputs": [],
   "source": [
    "from sklearn.decomposition import PCA\n",
    "from sklearn.preprocessing import scale\n",
    "from sklearn.cluster import KMeans"
   ]
  },
  {
   "cell_type": "code",
   "execution_count": 150,
   "metadata": {
    "ExecuteTime": {
     "end_time": "2021-03-31T15:59:47.474998Z",
     "start_time": "2021-03-31T15:59:47.372990Z"
    }
   },
   "outputs": [
    {
     "name": "stderr",
     "output_type": "stream",
     "text": [
      "C:\\Users\\lizil\\Downloads\\Pycharm\\Anaconda\\lib\\site-packages\\ipykernel_launcher.py:2: DataConversionWarning: Data with input dtype int64, float64 were all converted to float64 by the scale function.\n",
      "  \n"
     ]
    }
   ],
   "source": [
    "## Scale and standardize before plotting the 2D PCA\n",
    "X = scale(X)\n",
    "## this will covert each column to mean 0 and sd of 1"
   ]
  },
  {
   "cell_type": "code",
   "execution_count": 159,
   "metadata": {
    "ExecuteTime": {
     "end_time": "2021-03-31T17:05:55.915157Z",
     "start_time": "2021-03-31T17:05:55.587954Z"
    }
   },
   "outputs": [],
   "source": [
    "pca = PCA(n_components=2)\n",
    "X2d = pca.fit_transform(X)\n",
    "X2d = pd.DataFrame(X2d,columns=['pc1','pc2'])"
   ]
  },
  {
   "cell_type": "code",
   "execution_count": 161,
   "metadata": {
    "ExecuteTime": {
     "end_time": "2021-03-31T17:06:41.823865Z",
     "start_time": "2021-03-31T17:06:37.534570Z"
    }
   },
   "outputs": [
    {
     "data": {
      "text/plain": [
       "<matplotlib.collections.PathCollection at 0x2258b9130b8>"
      ]
     },
     "execution_count": 161,
     "metadata": {},
     "output_type": "execute_result"
    },
    {
     "data": {
      "image/png": "[encoded data removed]",
      "text/plain": [
       "<Figure size 432x288 with 1 Axes>"
      ]
     },
     "metadata": {
      "needs_background": "light"
     },
     "output_type": "display_data"
    }
   ],
   "source": [
    "plt.scatter(X2d.pc1,X2d.pc2,alpha=0.3)"
   ]
  },
  {
   "cell_type": "markdown",
   "metadata": {},
   "source": [
    "By projecting the original 5 dimensions into the 2 dimensions using PCA, we can gather some preliminary idea of how many clusters there are.\n",
    "\n",
    "We can then further do the cluster analysis to label all transactions"
   ]
  },
  {
   "cell_type": "markdown",
   "metadata": {},
   "source": [
    "## KMeans Clustering Analysis"
   ]
  },
  {
   "cell_type": "code",
   "execution_count": 162,
   "metadata": {
    "ExecuteTime": {
     "end_time": "2021-03-31T17:23:49.352112Z",
     "start_time": "2021-03-31T17:23:38.056374Z"
    }
   },
   "outputs": [
    {
     "data": {
      "text/plain": [
       "KMeans(algorithm='auto', copy_x=True, init='k-means++', max_iter=300,\n",
       "    n_clusters=6, n_init=10, n_jobs=-1, precompute_distances='auto',\n",
       "    random_state=None, tol=0.0001, verbose=0)"
      ]
     },
     "execution_count": 162,
     "metadata": {},
     "output_type": "execute_result"
    }
   ],
   "source": [
    "n_clusters = 6\n",
    "kmeans = KMeans(n_clusters=n_clusters,n_jobs=-1)\n",
    "kmeans.fit(X)"
   ]
  },
  {
   "cell_type": "code",
   "execution_count": 164,
   "metadata": {
    "ExecuteTime": {
     "end_time": "2021-03-31T17:24:02.172286Z",
     "start_time": "2021-03-31T17:24:02.149284Z"
    }
   },
   "outputs": [
    {
     "data": {
      "text/plain": [
       "3    109705\n",
       "0     73288\n",
       "1     51809\n",
       "5     28945\n",
       "2     25405\n",
       "4      5436\n",
       "Name: label, dtype: int64"
      ]
     },
     "execution_count": 164,
     "metadata": {},
     "output_type": "execute_result"
    }
   ],
   "source": [
    "X2d['label'] = kmeans.labels_\n",
    "X2d.label.value_counts()"
   ]
  },
  {
   "cell_type": "markdown",
   "metadata": {},
   "source": [
    "The number 4 group contains less value, which are suspicious among other clusters. "
   ]
  },
  {
   "cell_type": "code",
   "execution_count": 167,
   "metadata": {
    "ExecuteTime": {
     "end_time": "2021-03-31T17:26:03.111918Z",
     "start_time": "2021-03-31T17:25:53.369676Z"
    }
   },
   "outputs": [
    {
     "data": {
      "text/plain": [
       "<matplotlib.legend.Legend at 0x2258b944828>"
      ]
     },
     "execution_count": 167,
     "metadata": {},
     "output_type": "execute_result"
    },
    {
     "data": {
      "image/png": "[encoded data removed]",
      "text/plain": [
       "<Figure size 720x432 with 1 Axes>"
      ]
     },
     "metadata": {
      "needs_background": "light"
     },
     "output_type": "display_data"
    }
   ],
   "source": [
    "import itertools\n",
    "colors = itertools.cycle( ['r','g','b','c','m','y','k'] )\n",
    "\n",
    "plt.rc('figure',figsize=(10,6))\n",
    "for label in range(n_clusters) :\n",
    "    temp = X2d.loc[X2d.label == label,:]\n",
    "    plt.scatter(temp.pc1,temp.pc2,c=next(colors),label=label,alpha=0.3)\n",
    "\n",
    "plt.legend(loc='best')"
   ]
  },
  {
   "cell_type": "markdown",
   "metadata": {},
   "source": [
    "Number 4 cluster is the purple trunk at the left up corner."
   ]
  },
  {
   "cell_type": "code",
   "execution_count": 168,
   "metadata": {
    "ExecuteTime": {
     "end_time": "2021-03-31T17:29:06.214489Z",
     "start_time": "2021-03-31T17:29:06.201479Z"
    }
   },
   "outputs": [
    {
     "data": {
      "text/plain": [
       "4"
      ]
     },
     "execution_count": 168,
     "metadata": {},
     "output_type": "execute_result"
    }
   ],
   "source": [
    "suspicious_label = X2d.label.value_counts().argmin()\n",
    "suspicious_label"
   ]
  },
  {
   "cell_type": "code",
   "execution_count": 175,
   "metadata": {
    "ExecuteTime": {
     "end_time": "2021-03-31T17:51:11.735524Z",
     "start_time": "2021-03-31T17:51:11.720527Z"
    }
   },
   "outputs": [],
   "source": [
    "suspect = cov_data.loc[X2d.label==suspicious_label,['credit_card','transaction_dollar_amount','25%','50%','75%','credit_card_limit','date']].reset_index(drop=True)"
   ]
  },
  {
   "cell_type": "code",
   "execution_count": 176,
   "metadata": {
    "ExecuteTime": {
     "end_time": "2021-03-31T17:51:12.499611Z",
     "start_time": "2021-03-31T17:51:12.484626Z"
    }
   },
   "outputs": [
    {
     "data": {
      "text/html": [
       "<div>\n",
       "<style scoped>\n",
       "    .dataframe tbody tr th:only-of-type {\n",
       "        vertical-align: middle;\n",
       "    }\n",
       "\n",
       "    .dataframe tbody tr th {\n",
       "        vertical-align: top;\n",
       "    }\n",
       "\n",
       "    .dataframe thead th {\n",
       "        text-align: right;\n",
       "    }\n",
       "</style>\n",
       "<table border=\"1\" class=\"dataframe\">\n",
       "  <thead>\n",
       "    <tr style=\"text-align: right;\">\n",
       "      <th></th>\n",
       "      <th>credit_card</th>\n",
       "      <th>transaction_dollar_amount</th>\n",
       "      <th>25%</th>\n",
       "      <th>50%</th>\n",
       "      <th>75%</th>\n",
       "      <th>credit_card_limit</th>\n",
       "      <th>date</th>\n",
       "    </tr>\n",
       "  </thead>\n",
       "  <tbody>\n",
       "    <tr>\n",
       "      <th>0</th>\n",
       "      <td>1003715054175576</td>\n",
       "      <td>995.35</td>\n",
       "      <td>59.01</td>\n",
       "      <td>93.73</td>\n",
       "      <td>124.63</td>\n",
       "      <td>20000</td>\n",
       "      <td>2015-09-11 19:50:02</td>\n",
       "    </tr>\n",
       "    <tr>\n",
       "      <th>1</th>\n",
       "      <td>1003715054175576</td>\n",
       "      <td>818.47</td>\n",
       "      <td>59.01</td>\n",
       "      <td>93.73</td>\n",
       "      <td>124.63</td>\n",
       "      <td>20000</td>\n",
       "      <td>2015-10-01 20:44:09</td>\n",
       "    </tr>\n",
       "    <tr>\n",
       "      <th>2</th>\n",
       "      <td>1003715054175576</td>\n",
       "      <td>888.04</td>\n",
       "      <td>59.01</td>\n",
       "      <td>93.73</td>\n",
       "      <td>124.63</td>\n",
       "      <td>20000</td>\n",
       "      <td>2015-10-18 01:01:41</td>\n",
       "    </tr>\n",
       "    <tr>\n",
       "      <th>3</th>\n",
       "      <td>1003715054175576</td>\n",
       "      <td>859.31</td>\n",
       "      <td>59.01</td>\n",
       "      <td>93.73</td>\n",
       "      <td>124.63</td>\n",
       "      <td>20000</td>\n",
       "      <td>2015-08-24 15:14:52</td>\n",
       "    </tr>\n",
       "    <tr>\n",
       "      <th>4</th>\n",
       "      <td>1003715054175576</td>\n",
       "      <td>925.78</td>\n",
       "      <td>59.01</td>\n",
       "      <td>93.73</td>\n",
       "      <td>124.63</td>\n",
       "      <td>20000</td>\n",
       "      <td>2015-09-24 22:10:07</td>\n",
       "    </tr>\n",
       "    <tr>\n",
       "      <th>5</th>\n",
       "      <td>1003715054175576</td>\n",
       "      <td>905.54</td>\n",
       "      <td>59.01</td>\n",
       "      <td>93.73</td>\n",
       "      <td>124.63</td>\n",
       "      <td>20000</td>\n",
       "      <td>2015-09-02 20:54:00</td>\n",
       "    </tr>\n",
       "    <tr>\n",
       "      <th>6</th>\n",
       "      <td>1013870087888817</td>\n",
       "      <td>898.00</td>\n",
       "      <td>58.09</td>\n",
       "      <td>87.67</td>\n",
       "      <td>128.02</td>\n",
       "      <td>15000</td>\n",
       "      <td>2015-09-01 18:23:13</td>\n",
       "    </tr>\n",
       "    <tr>\n",
       "      <th>7</th>\n",
       "      <td>1013870087888817</td>\n",
       "      <td>848.21</td>\n",
       "      <td>58.09</td>\n",
       "      <td>87.67</td>\n",
       "      <td>128.02</td>\n",
       "      <td>15000</td>\n",
       "      <td>2015-09-20 23:53:12</td>\n",
       "    </tr>\n",
       "    <tr>\n",
       "      <th>8</th>\n",
       "      <td>1013870087888817</td>\n",
       "      <td>811.25</td>\n",
       "      <td>58.09</td>\n",
       "      <td>87.67</td>\n",
       "      <td>128.02</td>\n",
       "      <td>15000</td>\n",
       "      <td>2015-10-05 00:14:43</td>\n",
       "    </tr>\n",
       "    <tr>\n",
       "      <th>9</th>\n",
       "      <td>1013870087888817</td>\n",
       "      <td>972.63</td>\n",
       "      <td>58.09</td>\n",
       "      <td>87.67</td>\n",
       "      <td>128.02</td>\n",
       "      <td>15000</td>\n",
       "      <td>2015-08-19 19:12:24</td>\n",
       "    </tr>\n",
       "  </tbody>\n",
       "</table>\n",
       "</div>"
      ],
      "text/plain": [
       "        credit_card  transaction_dollar_amount    25%    50%     75%  \\\n",
       "0  1003715054175576                     995.35  59.01  93.73  124.63   \n",
       "1  1003715054175576                     818.47  59.01  93.73  124.63   \n",
       "2  1003715054175576                     888.04  59.01  93.73  124.63   \n",
       "3  1003715054175576                     859.31  59.01  93.73  124.63   \n",
       "4  1003715054175576                     925.78  59.01  93.73  124.63   \n",
       "5  1003715054175576                     905.54  59.01  93.73  124.63   \n",
       "6  1013870087888817                     898.00  58.09  87.67  128.02   \n",
       "7  1013870087888817                     848.21  58.09  87.67  128.02   \n",
       "8  1013870087888817                     811.25  58.09  87.67  128.02   \n",
       "9  1013870087888817                     972.63  58.09  87.67  128.02   \n",
       "\n",
       "   credit_card_limit                date  \n",
       "0              20000 2015-09-11 19:50:02  \n",
       "1              20000 2015-10-01 20:44:09  \n",
       "2              20000 2015-10-18 01:01:41  \n",
       "3              20000 2015-08-24 15:14:52  \n",
       "4              20000 2015-09-24 22:10:07  \n",
       "5              20000 2015-09-02 20:54:00  \n",
       "6              15000 2015-09-01 18:23:13  \n",
       "7              15000 2015-09-20 23:53:12  \n",
       "8              15000 2015-10-05 00:14:43  \n",
       "9              15000 2015-08-19 19:12:24  "
      ]
     },
     "execution_count": 176,
     "metadata": {},
     "output_type": "execute_result"
    }
   ],
   "source": [
    "suspect.head(10)"
   ]
  },
  {
   "cell_type": "markdown",
   "metadata": {
    "ExecuteTime": {
     "end_time": "2021-03-31T17:31:08.486429Z",
     "start_time": "2021-03-31T17:31:08.461429Z"
    }
   },
   "source": [
    "From the result list we can see that almost all records in cluster 4 are the transaction amount way higher than normal, even way higher than the 75% quantile of the own's history. Therefore they need further investigation."
   ]
  },
  {
   "cell_type": "code",
   "execution_count": null,
   "metadata": {},
   "outputs": [],
   "source": []
  }
 ],
 "metadata": {
  "kernelspec": {
   "display_name": "Python 3",
   "language": "python",
   "name": "python3"
  },
  "language_info": {
   "codemirror_mode": {
    "name": "ipython",
    "version": 3
   },
   "file_extension": ".py",
   "mimetype": "text/x-python",
   "name": "python",
   "nbconvert_exporter": "python",
   "pygments_lexer": "ipython3",
   "version": "3.7.1"
  },
  "toc": {
   "base_numbering": 1,
   "nav_menu": {},
   "number_sections": true,
   "sideBar": true,
   "skip_h1_title": false,
   "title_cell": "Table of Contents",
   "title_sidebar": "Contents",
   "toc_cell": false,
   "toc_position": {},
   "toc_section_display": true,
   "toc_window_display": false
  },
  "varInspector": {
   "cols": {
    "lenName": 16,
    "lenType": 16,
    "lenVar": 40
   },
   "kernels_config": {
    "python": {
     "delete_cmd_postfix": "",
     "delete_cmd_prefix": "del ",
     "library": "var_list.py",
     "varRefreshCmd": "print(var_dic_list())"
    },
    "r": {
     "delete_cmd_postfix": ") ",
     "delete_cmd_prefix": "rm(",
     "library": "var_list.r",
     "varRefreshCmd": "cat(var_dic_list()) "
    }
   },
   "types_to_exclude": [
    "module",
    "function",
    "builtin_function_or_method",
    "instance",
    "_Feature"
   ],
   "window_display": false
  }
 },
 "nbformat": 4,
 "nbformat_minor": 2
}
